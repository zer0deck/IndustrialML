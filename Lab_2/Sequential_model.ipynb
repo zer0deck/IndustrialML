{
 "cells": [
  {
   "cell_type": "markdown",
   "metadata": {},
   "source": [
    "## Libs and hyperparams"
   ]
  },
  {
   "cell_type": "code",
   "execution_count": null,
   "metadata": {},
   "outputs": [],
   "source": [
    "from tensorflow import keras\n",
    "from tensorflow.keras.preprocessing.image import ImageDataGenerator\n",
    "from tensorflow.keras import backend as K\n",
    "\n",
    "image_width, image_height = 300, 300\n",
    "directory_data_train= 'images/train'\n",
    "directory_data_validation= 'images/test'\n",
    "\n",
    "train_sample = 1450\n",
    "validation_sample = 850\n",
    "epochs = 50\n",
    "lot_size = 20\n",
    "if K.image_data_format() != 'channels_first':\n",
    "     input_shape = (image_width, image_height, 3)\n",
    "else:\n",
    "     input_shape = (3, image_width, image_height)   "
   ]
  },
  {
   "cell_type": "markdown",
   "metadata": {},
   "source": [
    "## Model"
   ]
  },
  {
   "cell_type": "code",
   "execution_count": null,
   "metadata": {},
   "outputs": [],
   "source": [
    "pattern = keras.models.Sequential()\n",
    "\n",
    "pattern.add(keras.layers.Conv2D(32, (3, 3), input_shape=input_shape))\n",
    "pattern.add(keras.layers.Activation('relu'))\n",
    "pattern.add(keras.layers.MaxPooling2D(pool_size=(2, 2)))\n",
    "\n",
    "pattern.add(keras.layers.Conv2D(32, (3, 3)))\n",
    "pattern.add(keras.layers.Activation('relu'))\n",
    "pattern.add(keras.layers.MaxPooling2D(pool_size=(2, 2)))\n",
    "\n",
    "pattern.add(keras.layers.Conv2D(64, (3, 3)))\n",
    "pattern.add(keras.layers.Activation('relu'))\n",
    "pattern.add(keras.layers.MaxPooling2D(pool_size=(2, 2)))\n",
    "\n",
    "pattern.add(keras.layers.Flatten())\n",
    "pattern.add(keras.layers.Dense(64))\n",
    "pattern.add(keras.layers.Activation('relu'))\n",
    "pattern.add(keras.layers.Dropout(0.5))\n",
    "pattern.add(keras.layers.Dense(24))# число классов\n",
    "pattern.add(keras.layers.Activation('softmax'))\n",
    "\n",
    "pattern.compile(loss='categorical_crossentropy',\n",
    "              optimizer='rmsprop',\n",
    "              metrics=['accuracy'])"
   ]
  },
  {
   "cell_type": "code",
   "execution_count": null,
   "metadata": {},
   "outputs": [],
   "source": [
    "train_datagen = keras.preprocessing.image.ImageDataGenerator(rescale=1. / 128, shear_range=0.2, zoom_range=0.2, horizontal_flip=True)\n",
    "test_datagen = keras.preprocessing.image.ImageDataGenerator(rescale=1. / 128)\n",
    "train_processing = train_datagen.flow_from_directory(\n",
    "    directory_data_train,\n",
    "    target_size=(image_width, image_height),\n",
    "    batch_size=lot_size,\n",
    "    class_mode='categorical')\n",
    "validation_processing= test_datagen.flow_from_directory(\n",
    "    directory_data_validation,\n",
    "    target_size=(image_width, image_height),\n",
    "    batch_size=lot_size,\n",
    "    class_mode='categorical')"
   ]
  },
  {
   "cell_type": "markdown",
   "metadata": {},
   "source": [
    "## Train"
   ]
  },
  {
   "cell_type": "code",
   "execution_count": 5,
   "metadata": {},
   "outputs": [
    {
     "name": "stdout",
     "output_type": "stream",
     "text": [
      "68/85 [=======================>......] - ETA: 3s - loss: 3.1923 - accuracy: 0.0559"
     ]
    }
   ],
   "source": [
    "pattern.fit(\n",
    "    train_processing,\n",
    "    steps_per_epoch=train_sample // lot_size,\n",
    "    epochs=epochs,\n",
    "    validation_data=validation_processing,\n",
    "    validation_steps=validation_sample  // lot_size)"
   ]
  },
  {
   "cell_type": "code",
   "execution_count": null,
   "metadata": {},
   "outputs": [],
   "source": [
    "# pattern.save_weights('first_model_weights.h5') #Сохранение весов модели\n",
    "# pattern.save('path') #Сохранение модели\n",
    "# pattern.load_weights('first_model_weights.h5') # Загрузка весов модели\n",
    "# prediction = pattern.predict(x) #Использование модели для предсказания"
   ]
  }
 ],
 "metadata": {
  "kernelspec": {
   "display_name": "Python 3.10.6 ('myenv')",
   "language": "python",
   "name": "python3"
  },
  "language_info": {
   "codemirror_mode": {
    "name": "ipython",
    "version": 3
   },
   "file_extension": ".py",
   "mimetype": "text/x-python",
   "name": "python",
   "nbconvert_exporter": "python",
   "pygments_lexer": "ipython3",
   "version": "3.10.6"
  },
  "orig_nbformat": 4,
  "vscode": {
   "interpreter": {
    "hash": "a48c1c1e8658373fcc539852917cc22c6ad5be79fdb42c1f6d2f958531f72923"
   }
  }
 },
 "nbformat": 4,
 "nbformat_minor": 2
}
