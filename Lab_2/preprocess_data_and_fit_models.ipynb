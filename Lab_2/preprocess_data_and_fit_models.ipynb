{
 "cells": [
  {
   "cell_type": "markdown",
   "id": "07a9f4d5",
   "metadata": {},
   "source": [
    "### Lab 2."
   ]
  },
  {
   "cell_type": "code",
   "execution_count": 1,
   "metadata": {},
   "outputs": [
    {
     "name": "stderr",
     "output_type": "stream",
     "text": [
      "[nltk_data] Downloading package stopwords to\n",
      "[nltk_data]     C:\\Users\\vando\\AppData\\Roaming\\nltk_data...\n",
      "[nltk_data]   Unzipping corpora\\stopwords.zip.\n"
     ]
    }
   ],
   "source": [
    "import numpy as np\n",
    "import pandas as pd\n",
    "import sklearn\n",
    "import matplotlib.pyplot as plt\n",
    "import seaborn as sns\n",
    "\n",
    "from sklearn.model_selection import train_test_split\n",
    "import nltk\n",
    "import re\n",
    "nltk.download('stopwords')\n",
    "from nltk.corpus import stopwords\n",
    "from nltk.stem.porter import PorterStemmer\n",
    "\n",
    "from sklearn import metrics\n",
    "from sklearn.feature_extraction.text import TfidfVectorizer"
   ]
  },
  {
   "cell_type": "markdown",
   "metadata": {},
   "source": [
    "## Preprocess data"
   ]
  },
  {
   "cell_type": "code",
   "execution_count": 2,
   "metadata": {},
   "outputs": [
    {
     "data": {
      "text/plain": [
       "title          False\n",
       "genre          False\n",
       "description     True\n",
       "img_link       False\n",
       "dtype: bool"
      ]
     },
     "execution_count": 2,
     "metadata": {},
     "output_type": "execute_result"
    }
   ],
   "source": [
    "df = pd.read_csv(\"data.csv\", sep=';')\n",
    "df.isna().any()"
   ]
  },
  {
   "cell_type": "code",
   "execution_count": 3,
   "metadata": {},
   "outputs": [],
   "source": [
    "df = df.dropna()"
   ]
  },
  {
   "cell_type": "code",
   "execution_count": 4,
   "metadata": {},
   "outputs": [
    {
     "data": {
      "text/plain": [
       "title          False\n",
       "genre          False\n",
       "description    False\n",
       "img_link       False\n",
       "dtype: bool"
      ]
     },
     "execution_count": 4,
     "metadata": {},
     "output_type": "execute_result"
    }
   ],
   "source": [
    "df.isna().any()"
   ]
  },
  {
   "cell_type": "code",
   "execution_count": 5,
   "metadata": {},
   "outputs": [
    {
     "data": {
      "image/png": "[encoded data removed]",
      "text/plain": [
       "<Figure size 1080x504 with 1 Axes>"
      ]
     },
     "metadata": {
      "needs_background": "light"
     },
     "output_type": "display_data"
    }
   ],
   "source": [
    "plt.figure(figsize=(15,7))\n",
    "sns.countplot(x='genre', data=df, edgecolor=(0,0,0))\n",
    "plt.xticks(rotation=45)\n",
    "plt.xlabel('Movie Genres')\n",
    "plt.ylabel('Count')\n",
    "plt.title('Genre count')\n",
    "plt.show()"
   ]
  },
  {
   "cell_type": "code",
   "execution_count": 6,
   "metadata": {},
   "outputs": [
    {
     "data": {
      "text/html": [
       "<div>\n",
       "<style scoped>\n",
       "    .dataframe tbody tr th:only-of-type {\n",
       "        vertical-align: middle;\n",
       "    }\n",
       "\n",
       "    .dataframe tbody tr th {\n",
       "        vertical-align: top;\n",
       "    }\n",
       "\n",
       "    .dataframe thead th {\n",
       "        text-align: right;\n",
       "    }\n",
       "</style>\n",
       "<table border=\"1\" class=\"dataframe\">\n",
       "  <thead>\n",
       "    <tr style=\"text-align: right;\">\n",
       "      <th></th>\n",
       "      <th>title</th>\n",
       "      <th>genre</th>\n",
       "      <th>description</th>\n",
       "      <th>img_link</th>\n",
       "    </tr>\n",
       "  </thead>\n",
       "  <tbody>\n",
       "    <tr>\n",
       "      <th>0</th>\n",
       "      <td>Black Panther: Wakanda Forever</td>\n",
       "      <td>Action</td>\n",
       "      <td>The people of Wakanda fight to protect their h...</td>\n",
       "      <td>Action_01.jpg</td>\n",
       "    </tr>\n",
       "    <tr>\n",
       "      <th>1</th>\n",
       "      <td>Andor</td>\n",
       "      <td>Action</td>\n",
       "      <td>Prequel series to Star Wars' 'Rogue One'. In a...</td>\n",
       "      <td>Action_02.jpg</td>\n",
       "    </tr>\n",
       "    <tr>\n",
       "      <th>2</th>\n",
       "      <td>Black Adam</td>\n",
       "      <td>Action</td>\n",
       "      <td>Nearly 5,000 years after he was bestowed with ...</td>\n",
       "      <td>Action_03.jpg</td>\n",
       "    </tr>\n",
       "    <tr>\n",
       "      <th>3</th>\n",
       "      <td>House of the Dragon</td>\n",
       "      <td>Action</td>\n",
       "      <td>An internal succession war within House Targar...</td>\n",
       "      <td>Action_04.jpg</td>\n",
       "    </tr>\n",
       "    <tr>\n",
       "      <th>4</th>\n",
       "      <td>Warrior Nun</td>\n",
       "      <td>Action</td>\n",
       "      <td>After waking up in a morgue, an orphaned teen ...</td>\n",
       "      <td>Action_05.jpg</td>\n",
       "    </tr>\n",
       "  </tbody>\n",
       "</table>\n",
       "</div>"
      ],
      "text/plain": [
       "                            title   genre  \\\n",
       "0  Black Panther: Wakanda Forever  Action   \n",
       "1                           Andor  Action   \n",
       "2                      Black Adam  Action   \n",
       "3             House of the Dragon  Action   \n",
       "4                     Warrior Nun  Action   \n",
       "\n",
       "                                         description       img_link  \n",
       "0  The people of Wakanda fight to protect their h...  Action_01.jpg  \n",
       "1  Prequel series to Star Wars' 'Rogue One'. In a...  Action_02.jpg  \n",
       "2  Nearly 5,000 years after he was bestowed with ...  Action_03.jpg  \n",
       "3  An internal succession war within House Targar...  Action_04.jpg  \n",
       "4  After waking up in a morgue, an orphaned teen ...  Action_05.jpg  "
      ]
     },
     "execution_count": 6,
     "metadata": {},
     "output_type": "execute_result"
    }
   ],
   "source": [
    "df.head()"
   ]
  },
  {
   "cell_type": "code",
   "execution_count": 12,
   "metadata": {},
   "outputs": [],
   "source": [
    "#genre_mapper = {'Action': 0, 'Adventure': 1, 'Animation': 2, 'Biography':3, 'Comedy':4, 'Crime':5, 'Documentary':6, 'Drama':7, 'Family': 8,\n",
    "#                'Fantasy': 9, 'Film-Noir': 10, 'History': 11, 'Horror':12, 'Music':13, 'Musical':14, 'Mystery':15, 'Romance':16, 'Sci-Fi': 17,\n",
    "#                'Short': 18, 'Sport': 19, 'Superhero': 20, 'Thriller':21, 'War':22, 'Western':23}\n",
    "#df['genre'] = df['genre'].map(genre_mapper)\n",
    "#df.head(10)"
   ]
  },
  {
   "cell_type": "markdown",
   "metadata": {},
   "source": [
    "### Text preprocessing"
   ]
  },
  {
   "cell_type": "code",
   "execution_count": 7,
   "metadata": {},
   "outputs": [],
   "source": [
    "# Text preprocessing\n",
    "\n",
    "def preprocess_text(text, stemm=False, lemm=True, stopwords=None):\n",
    "  # Remove punctuations, lowercase, strip\n",
    "  text = re.sub(r'[^\\w\\s]', '', str(text).lower().strip())\n",
    "          \n",
    "  # Tokenize\n",
    "  texts = text.split()    \n",
    "  # Remove Stopwords\n",
    "  if stopwords is not None:\n",
    "      texts = [word for word in texts if word not in stopwords]\n",
    "              \n",
    "  # Stemming\n",
    "  if stemm == True:\n",
    "      ps = nltk.stem.porter.PorterStemmer()\n",
    "      texts = [ps.stem(word) for word in texts]\n",
    "              \n",
    "  # Lemmatisation\n",
    "  if lemm == True:\n",
    "      lem = nltk.stem.wordnet.WordNetLemmatizer()\n",
    "      texts = [lem.lemmatize(word) for word in texts]\n",
    "          \n",
    "  # Collect lists\n",
    "  text = \" \".join(texts)\n",
    "  return text"
   ]
  },
  {
   "cell_type": "code",
   "execution_count": 8,
   "metadata": {},
   "outputs": [],
   "source": [
    "# Loading stopwords dict\n",
    "stopwords = nltk.corpus.stopwords.words(\"english\")"
   ]
  },
  {
   "cell_type": "code",
   "execution_count": 9,
   "metadata": {},
   "outputs": [
    {
     "data": {
      "text/html": [
       "<div>\n",
       "<style scoped>\n",
       "    .dataframe tbody tr th:only-of-type {\n",
       "        vertical-align: middle;\n",
       "    }\n",
       "\n",
       "    .dataframe tbody tr th {\n",
       "        vertical-align: top;\n",
       "    }\n",
       "\n",
       "    .dataframe thead th {\n",
       "        text-align: right;\n",
       "    }\n",
       "</style>\n",
       "<table border=\"1\" class=\"dataframe\">\n",
       "  <thead>\n",
       "    <tr style=\"text-align: right;\">\n",
       "      <th></th>\n",
       "      <th>title</th>\n",
       "      <th>genre</th>\n",
       "      <th>description</th>\n",
       "      <th>img_link</th>\n",
       "      <th>clean_title</th>\n",
       "      <th>clean_description</th>\n",
       "    </tr>\n",
       "  </thead>\n",
       "  <tbody>\n",
       "    <tr>\n",
       "      <th>0</th>\n",
       "      <td>Black Panther: Wakanda Forever</td>\n",
       "      <td>Action</td>\n",
       "      <td>The people of Wakanda fight to protect their h...</td>\n",
       "      <td>Action_01.jpg</td>\n",
       "      <td>black panther wakanda forever</td>\n",
       "      <td>people wakanda fight protect home intervening ...</td>\n",
       "    </tr>\n",
       "    <tr>\n",
       "      <th>1</th>\n",
       "      <td>Andor</td>\n",
       "      <td>Action</td>\n",
       "      <td>Prequel series to Star Wars' 'Rogue One'. In a...</td>\n",
       "      <td>Action_02.jpg</td>\n",
       "      <td>andor</td>\n",
       "      <td>prequel series star war rogue one era filled d...</td>\n",
       "    </tr>\n",
       "    <tr>\n",
       "      <th>2</th>\n",
       "      <td>Black Adam</td>\n",
       "      <td>Action</td>\n",
       "      <td>Nearly 5,000 years after he was bestowed with ...</td>\n",
       "      <td>Action_03.jpg</td>\n",
       "      <td>black adam</td>\n",
       "      <td>nearly 5000 year bestowed almighty power egypt...</td>\n",
       "    </tr>\n",
       "    <tr>\n",
       "      <th>3</th>\n",
       "      <td>House of the Dragon</td>\n",
       "      <td>Action</td>\n",
       "      <td>An internal succession war within House Targar...</td>\n",
       "      <td>Action_04.jpg</td>\n",
       "      <td>house dragon</td>\n",
       "      <td>internal succession war within house targaryen...</td>\n",
       "    </tr>\n",
       "    <tr>\n",
       "      <th>4</th>\n",
       "      <td>Warrior Nun</td>\n",
       "      <td>Action</td>\n",
       "      <td>After waking up in a morgue, an orphaned teen ...</td>\n",
       "      <td>Action_05.jpg</td>\n",
       "      <td>warrior nun</td>\n",
       "      <td>waking morgue orphaned teen discovers posse su...</td>\n",
       "    </tr>\n",
       "  </tbody>\n",
       "</table>\n",
       "</div>"
      ],
      "text/plain": [
       "                            title   genre  \\\n",
       "0  Black Panther: Wakanda Forever  Action   \n",
       "1                           Andor  Action   \n",
       "2                      Black Adam  Action   \n",
       "3             House of the Dragon  Action   \n",
       "4                     Warrior Nun  Action   \n",
       "\n",
       "                                         description       img_link  \\\n",
       "0  The people of Wakanda fight to protect their h...  Action_01.jpg   \n",
       "1  Prequel series to Star Wars' 'Rogue One'. In a...  Action_02.jpg   \n",
       "2  Nearly 5,000 years after he was bestowed with ...  Action_03.jpg   \n",
       "3  An internal succession war within House Targar...  Action_04.jpg   \n",
       "4  After waking up in a morgue, an orphaned teen ...  Action_05.jpg   \n",
       "\n",
       "                     clean_title  \\\n",
       "0  black panther wakanda forever   \n",
       "1                          andor   \n",
       "2                     black adam   \n",
       "3                   house dragon   \n",
       "4                    warrior nun   \n",
       "\n",
       "                                   clean_description  \n",
       "0  people wakanda fight protect home intervening ...  \n",
       "1  prequel series star war rogue one era filled d...  \n",
       "2  nearly 5000 year bestowed almighty power egypt...  \n",
       "3  internal succession war within house targaryen...  \n",
       "4  waking morgue orphaned teen discovers posse su...  "
      ]
     },
     "execution_count": 9,
     "metadata": {},
     "output_type": "execute_result"
    }
   ],
   "source": [
    "# Doing preprocessing on texts\n",
    "df['clean_title'] = df[\"title\"].apply(lambda x: \n",
    "          preprocess_text(x, stemm=False, lemm=True, stopwords=stopwords))\n",
    "df['clean_description'] = df[\"description\"].apply(lambda x: \n",
    "          preprocess_text(x, stemm=False, lemm=True, stopwords=stopwords))\n",
    "df.head()"
   ]
  },
  {
   "cell_type": "code",
   "execution_count": 16,
   "metadata": {},
   "outputs": [],
   "source": [
    "#one_hot = pd.get_dummies(df['genre'])\n",
    "#df = df.drop(['genre'], axis = 1)\n",
    "#df = df.join(one_hot)\n",
    "#df"
   ]
  },
  {
   "cell_type": "code",
   "execution_count": 17,
   "metadata": {},
   "outputs": [],
   "source": [
    "#df.to_csv('data_cleaned.csv', sep=';', index=None)"
   ]
  },
  {
   "cell_type": "code",
   "execution_count": 18,
   "metadata": {},
   "outputs": [],
   "source": [
    "#genre_mapper = {'Action': 0, 'Adventure': 1, 'Animation': 2, 'Biography':3, 'Comedy':4, 'Crime':5, 'Documentary':6, 'Drama':7, 'Family': 8,\n",
    "#                'Fantasy': 9, 'Film-Noir': 10, 'History': 11, 'Horror':12, 'Music':13, 'Musical':14, 'Mystery':15, 'Romance':16, 'Sci-Fi': 17,\n",
    "#                'Short': 18, 'Sport': 19, 'Superhero': 20, 'Thriller':21, 'War':22, 'Western':23}\n",
    "#df['genre'] = df['genre'].map(genre_mapper)\n",
    "#df.head(10)"
   ]
  },
  {
   "cell_type": "code",
   "execution_count": 10,
   "metadata": {},
   "outputs": [
    {
     "data": {
      "text/html": [
       "<div>\n",
       "<style scoped>\n",
       "    .dataframe tbody tr th:only-of-type {\n",
       "        vertical-align: middle;\n",
       "    }\n",
       "\n",
       "    .dataframe tbody tr th {\n",
       "        vertical-align: top;\n",
       "    }\n",
       "\n",
       "    .dataframe thead th {\n",
       "        text-align: right;\n",
       "    }\n",
       "</style>\n",
       "<table border=\"1\" class=\"dataframe\">\n",
       "  <thead>\n",
       "    <tr style=\"text-align: right;\">\n",
       "      <th></th>\n",
       "      <th>text</th>\n",
       "      <th>genre</th>\n",
       "      <th>img_link</th>\n",
       "    </tr>\n",
       "  </thead>\n",
       "  <tbody>\n",
       "    <tr>\n",
       "      <th>0</th>\n",
       "      <td>black panther wakanda forever people wakanda f...</td>\n",
       "      <td>Action</td>\n",
       "      <td>Action_01.jpg</td>\n",
       "    </tr>\n",
       "    <tr>\n",
       "      <th>1</th>\n",
       "      <td>andor prequel series star war rogue one era fi...</td>\n",
       "      <td>Action</td>\n",
       "      <td>Action_02.jpg</td>\n",
       "    </tr>\n",
       "    <tr>\n",
       "      <th>2</th>\n",
       "      <td>black adam nearly 5000 year bestowed almighty ...</td>\n",
       "      <td>Action</td>\n",
       "      <td>Action_03.jpg</td>\n",
       "    </tr>\n",
       "    <tr>\n",
       "      <th>3</th>\n",
       "      <td>house dragon internal succession war within ho...</td>\n",
       "      <td>Action</td>\n",
       "      <td>Action_04.jpg</td>\n",
       "    </tr>\n",
       "    <tr>\n",
       "      <th>4</th>\n",
       "      <td>warrior nun waking morgue orphaned teen discov...</td>\n",
       "      <td>Action</td>\n",
       "      <td>Action_05.jpg</td>\n",
       "    </tr>\n",
       "  </tbody>\n",
       "</table>\n",
       "</div>"
      ],
      "text/plain": [
       "                                                text   genre       img_link\n",
       "0  black panther wakanda forever people wakanda f...  Action  Action_01.jpg\n",
       "1  andor prequel series star war rogue one era fi...  Action  Action_02.jpg\n",
       "2  black adam nearly 5000 year bestowed almighty ...  Action  Action_03.jpg\n",
       "3  house dragon internal succession war within ho...  Action  Action_04.jpg\n",
       "4  warrior nun waking morgue orphaned teen discov...  Action  Action_05.jpg"
      ]
     },
     "execution_count": 10,
     "metadata": {},
     "output_type": "execute_result"
    }
   ],
   "source": [
    "df[\"text\"] = df[\"clean_title\"] + \" \" + df[\"clean_description\"]\n",
    "df = df[['text', 'genre', 'img_link']]\n",
    "df.head()"
   ]
  },
  {
   "cell_type": "code",
   "execution_count": 11,
   "metadata": {},
   "outputs": [
    {
     "data": {
      "image/png": "[encoded data removed]",
      "text/plain": [
       "<Figure size 864x1080 with 1 Axes>"
      ]
     },
     "metadata": {
      "needs_background": "light"
     },
     "output_type": "display_data"
    }
   ],
   "source": [
    "def freq_words(x, terms = 30): \n",
    "  all_words = ' '.join([text for text in x]) \n",
    "  all_words = all_words.split() \n",
    "  fdist = nltk.FreqDist(all_words) \n",
    "  words_df = pd.DataFrame({'word':list(fdist.keys()), 'count':list(fdist.values())}) \n",
    "  \n",
    "  # selecting top 20 most frequent words \n",
    "  d = words_df.nlargest(columns=\"count\", n = terms) \n",
    "  \n",
    "  # visualize words and frequencies\n",
    "  plt.figure(figsize=(12,15)) \n",
    "  ax = sns.barplot(data=d, x= \"count\", y = \"word\") \n",
    "  ax.set(ylabel = 'Word') \n",
    "  plt.show()\n",
    "  \n",
    "# print 100 most frequent words \n",
    "freq_words(df['text'], 50)"
   ]
  },
  {
   "cell_type": "markdown",
   "metadata": {},
   "source": [
    "## Text model"
   ]
  },
  {
   "cell_type": "code",
   "execution_count": 12,
   "metadata": {},
   "outputs": [],
   "source": [
    "from sklearn.preprocessing import MultiLabelBinarizer\n",
    "\n",
    "multilabel_binarizer = MultiLabelBinarizer()\n",
    "multilabel_binarizer.fit(df['genre'])\n",
    "\n",
    "# transform target variable\n",
    "y = multilabel_binarizer.transform(df['genre'])"
   ]
  },
  {
   "cell_type": "code",
   "execution_count": 13,
   "metadata": {},
   "outputs": [],
   "source": [
    "tfidf_vectorizer = TfidfVectorizer(max_df=0.8, max_features=10000)"
   ]
  },
  {
   "cell_type": "code",
   "execution_count": 59,
   "metadata": {},
   "outputs": [
    {
     "data": {
      "text/plain": [
       "1203"
      ]
     },
     "execution_count": 59,
     "metadata": {},
     "output_type": "execute_result"
    }
   ],
   "source": [
    "xtrain_with_genre, xval_with_genre, ytrain, yval = train_test_split(df[['text', 'genre']], y, test_size=0.2, random_state=9)\n",
    "xtrain = xtrain_with_genre['text']\n",
    "xval = xval_with_genre['text']"
   ]
  },
  {
   "cell_type": "code",
   "execution_count": 58,
   "metadata": {},
   "outputs": [],
   "source": [
    "# create TF-IDF features\n",
    "xtrain_tfidf = tfidf_vectorizer.fit_transform(xtrain)\n",
    "xval_tfidf = tfidf_vectorizer.transform(xval)"
   ]
  },
  {
   "cell_type": "code",
   "execution_count": 16,
   "metadata": {},
   "outputs": [],
   "source": [
    "from sklearn.linear_model import LogisticRegression\n",
    "\n",
    "# Binary Relevance\n",
    "from sklearn.multiclass import OneVsRestClassifier\n",
    "\n",
    "# Performance metric\n",
    "from sklearn.metrics import f1_score"
   ]
  },
  {
   "cell_type": "code",
   "execution_count": 17,
   "metadata": {},
   "outputs": [],
   "source": [
    "lr = LogisticRegression()\n",
    "clf = OneVsRestClassifier(lr)"
   ]
  },
  {
   "cell_type": "code",
   "execution_count": 18,
   "metadata": {},
   "outputs": [
    {
     "data": {
      "text/plain": [
       "OneVsRestClassifier(estimator=LogisticRegression())"
      ]
     },
     "execution_count": 18,
     "metadata": {},
     "output_type": "execute_result"
    }
   ],
   "source": [
    "# fit model on train data\n",
    "clf.fit(xtrain_tfidf, ytrain)"
   ]
  },
  {
   "cell_type": "code",
   "execution_count": 19,
   "metadata": {},
   "outputs": [],
   "source": [
    "# make predictions for validation set\n",
    "y_pred = clf.predict(xval_tfidf)"
   ]
  },
  {
   "cell_type": "code",
   "execution_count": 20,
   "metadata": {},
   "outputs": [
    {
     "data": {
      "text/plain": [
       "array([0, 0, 0, 0, 0, 0, 0, 0, 0, 0, 0, 0, 0, 0, 0, 0, 0, 0, 0, 1, 0, 0,\n",
       "       0, 1, 0, 1, 0, 0, 0, 0, 0])"
      ]
     },
     "execution_count": 20,
     "metadata": {},
     "output_type": "execute_result"
    }
   ],
   "source": [
    "y_pred[3]"
   ]
  },
  {
   "cell_type": "code",
   "execution_count": 21,
   "metadata": {},
   "outputs": [
    {
     "data": {
      "text/plain": [
       "0.37690776376907764"
      ]
     },
     "execution_count": 21,
     "metadata": {},
     "output_type": "execute_result"
    }
   ],
   "source": [
    "f1_score(yval, y_pred, average=\"micro\")\n",
    "# this is for threshhold 0.5"
   ]
  },
  {
   "cell_type": "code",
   "execution_count": 48,
   "metadata": {},
   "outputs": [
    {
     "data": {
      "text/plain": [
       "array([[0.05288463, 0.14795591, 0.03429724, ..., 0.16399092, 0.05447844,\n",
       "        0.29397498],\n",
       "       [0.06993708, 0.09698087, 0.04747413, ..., 0.20942056, 0.04045166,\n",
       "        0.41631079],\n",
       "       [0.03717201, 0.09105087, 0.03028053, ..., 0.20668128, 0.03031846,\n",
       "        0.4302937 ],\n",
       "       ...,\n",
       "       [0.07122691, 0.08618844, 0.03218162, ..., 0.09072971, 0.02197603,\n",
       "        0.2670499 ],\n",
       "       [0.10021501, 0.10459592, 0.04278218, ..., 0.11255687, 0.03114869,\n",
       "        0.24868673],\n",
       "       [0.03186764, 0.1104118 , 0.04597602, ..., 0.29059687, 0.0359065 ,\n",
       "        0.29836894]])"
      ]
     },
     "execution_count": 48,
     "metadata": {},
     "output_type": "execute_result"
    }
   ],
   "source": [
    "# predict probabilities\n",
    "text_prediction = y_pred_prob = clf.predict_proba(xval_tfidf)\n",
    "text_prediction"
   ]
  },
  {
   "cell_type": "code",
   "execution_count": 47,
   "metadata": {},
   "outputs": [
    {
     "data": {
      "text/plain": [
       "array([[0, 0, 0, ..., 0, 0, 0],\n",
       "       [0, 0, 0, ..., 0, 0, 1],\n",
       "       [0, 0, 0, ..., 0, 0, 1],\n",
       "       ...,\n",
       "       [0, 0, 0, ..., 0, 0, 0],\n",
       "       [0, 0, 0, ..., 0, 0, 0],\n",
       "       [0, 0, 0, ..., 0, 0, 0]])"
      ]
     },
     "execution_count": 47,
     "metadata": {},
     "output_type": "execute_result"
    }
   ],
   "source": [
    "t = 0.3 # threshold value\n",
    "y_pred_new = (y_pred_prob >= t).astype(int)\n",
    "y_pred_new"
   ]
  },
  {
   "cell_type": "code",
   "execution_count": 38,
   "metadata": {},
   "outputs": [
    {
     "data": {
      "text/plain": [
       "0.5238741517581739"
      ]
     },
     "execution_count": 38,
     "metadata": {},
     "output_type": "execute_result"
    }
   ],
   "source": [
    "# evaluate performance\n",
    "f1_score(yval, y_pred_new, average=\"micro\")"
   ]
  },
  {
   "cell_type": "markdown",
   "metadata": {},
   "source": [
    "## Image model\n",
    "### Libs and hyperparams"
   ]
  },
  {
   "cell_type": "code",
   "execution_count": 27,
   "metadata": {},
   "outputs": [],
   "source": [
    "from tensorflow import keras\n",
    "from tensorflow.keras.preprocessing.image import ImageDataGenerator\n",
    "from tensorflow.keras import backend as K\n",
    "\n",
    "image_width, image_height = 300, 300\n",
    "directory_data_train= 'images/train'\n",
    "directory_data_validation= 'images/test'\n",
    "\n",
    "train_sample = 1450\n",
    "validation_sample = 850\n",
    "epochs = 50\n",
    "lot_size = 20\n",
    "if K.image_data_format() != 'channels_first':\n",
    "     input_shape = (image_width, image_height, 3)\n",
    "else:\n",
    "     input_shape = (3, image_width, image_height)   "
   ]
  },
  {
   "cell_type": "markdown",
   "metadata": {},
   "source": [
    "### Model description"
   ]
  },
  {
   "cell_type": "code",
   "execution_count": 28,
   "metadata": {},
   "outputs": [],
   "source": [
    "pattern = keras.models.Sequential()\n",
    "\n",
    "pattern.add(keras.layers.Conv2D(32, (3, 3), input_shape=input_shape))\n",
    "pattern.add(keras.layers.Activation('relu'))\n",
    "pattern.add(keras.layers.MaxPooling2D(pool_size=(2, 2)))\n",
    "\n",
    "pattern.add(keras.layers.Conv2D(32, (3, 3)))\n",
    "pattern.add(keras.layers.Activation('relu'))\n",
    "pattern.add(keras.layers.MaxPooling2D(pool_size=(2, 2)))\n",
    "\n",
    "pattern.add(keras.layers.Conv2D(64, (3, 3)))\n",
    "pattern.add(keras.layers.Activation('relu'))\n",
    "pattern.add(keras.layers.MaxPooling2D(pool_size=(2, 2)))\n",
    "\n",
    "pattern.add(keras.layers.Flatten())\n",
    "pattern.add(keras.layers.Dense(64))\n",
    "pattern.add(keras.layers.Activation('relu'))\n",
    "pattern.add(keras.layers.Dropout(0.5))\n",
    "pattern.add(keras.layers.Dense(24))# число классов\n",
    "pattern.add(keras.layers.Activation('softmax'))\n",
    "\n",
    "pattern.compile(loss='categorical_crossentropy',\n",
    "              optimizer='rmsprop',\n",
    "              metrics=['accuracy'])"
   ]
  },
  {
   "cell_type": "code",
   "execution_count": 29,
   "metadata": {},
   "outputs": [
    {
     "name": "stdout",
     "output_type": "stream",
     "text": [
      "Found 5314 images belonging to 24 classes.\n",
      "Found 649 images belonging to 24 classes.\n"
     ]
    }
   ],
   "source": [
    "train_datagen = keras.preprocessing.image.ImageDataGenerator(rescale=1. / 128, shear_range=0.2, zoom_range=0.2, horizontal_flip=True)\n",
    "test_datagen = keras.preprocessing.image.ImageDataGenerator(rescale=1. / 128)\n",
    "train_processing = train_datagen.flow_from_directory(\n",
    "    directory_data_train,\n",
    "    target_size=(image_width, image_height),\n",
    "    batch_size=lot_size,\n",
    "    class_mode='categorical')\n",
    "validation_processing= test_datagen.flow_from_directory(\n",
    "    directory_data_validation,\n",
    "    target_size=(image_width, image_height),\n",
    "    batch_size=lot_size,\n",
    "    class_mode='categorical')"
   ]
  },
  {
   "cell_type": "markdown",
   "metadata": {},
   "source": [
    "### Training"
   ]
  },
  {
   "cell_type": "code",
   "execution_count": 30,
   "metadata": {},
   "outputs": [
    {
     "name": "stdout",
     "output_type": "stream",
     "text": [
      "Epoch 1/50\n",
      "72/72 [==============================] - ETA: 0s - loss: 3.7124 - accuracy: 0.0425WARNING:tensorflow:Your input ran out of data; interrupting training. Make sure that your dataset or generator can generate at least `steps_per_epoch * epochs` batches (in this case, 42 batches). You may need to use the repeat() function when building your dataset.\n",
      "72/72 [==============================] - 35s 377ms/step - loss: 3.7124 - accuracy: 0.0425 - val_loss: 3.1783 - val_accuracy: 0.0462\n",
      "Epoch 2/50\n",
      "72/72 [==============================] - 25s 345ms/step - loss: 3.1886 - accuracy: 0.0403\n",
      "Epoch 3/50\n",
      "72/72 [==============================] - 24s 338ms/step - loss: 3.1899 - accuracy: 0.0451\n",
      "Epoch 4/50\n",
      "72/72 [==============================] - 25s 347ms/step - loss: 3.1976 - accuracy: 0.0535\n",
      "Epoch 5/50\n",
      "72/72 [==============================] - 24s 336ms/step - loss: 3.1763 - accuracy: 0.0558\n",
      "Epoch 6/50\n",
      "72/72 [==============================] - 25s 339ms/step - loss: 3.1866 - accuracy: 0.0535\n",
      "Epoch 7/50\n",
      "72/72 [==============================] - 25s 341ms/step - loss: 3.1724 - accuracy: 0.0586\n",
      "Epoch 8/50\n",
      "72/72 [==============================] - 24s 334ms/step - loss: 3.1734 - accuracy: 0.0604\n",
      "Epoch 9/50\n",
      "72/72 [==============================] - 25s 343ms/step - loss: 3.1675 - accuracy: 0.0562\n",
      "Epoch 10/50\n",
      "72/72 [==============================] - 25s 347ms/step - loss: 3.1442 - accuracy: 0.0736\n",
      "Epoch 11/50\n",
      "72/72 [==============================] - 25s 342ms/step - loss: 3.1529 - accuracy: 0.0694\n",
      "Epoch 12/50\n",
      "72/72 [==============================] - 25s 340ms/step - loss: 3.1292 - accuracy: 0.0785\n",
      "Epoch 13/50\n",
      "72/72 [==============================] - 25s 349ms/step - loss: 3.1181 - accuracy: 0.0861\n",
      "Epoch 14/50\n",
      "72/72 [==============================] - 25s 341ms/step - loss: 3.1093 - accuracy: 0.0833\n",
      "Epoch 15/50\n",
      "72/72 [==============================] - 26s 358ms/step - loss: 3.1153 - accuracy: 0.0819\n",
      "Epoch 16/50\n",
      "72/72 [==============================] - 25s 345ms/step - loss: 3.0898 - accuracy: 0.0997\n",
      "Epoch 17/50\n",
      "72/72 [==============================] - 26s 358ms/step - loss: 3.0996 - accuracy: 0.0819\n",
      "Epoch 18/50\n",
      "72/72 [==============================] - 24s 334ms/step - loss: 3.0742 - accuracy: 0.0962\n",
      "Epoch 19/50\n",
      "72/72 [==============================] - 26s 354ms/step - loss: 3.0856 - accuracy: 0.1046\n",
      "Epoch 20/50\n",
      "72/72 [==============================] - 25s 342ms/step - loss: 3.0631 - accuracy: 0.1109\n",
      "Epoch 21/50\n",
      "72/72 [==============================] - 25s 342ms/step - loss: 3.0634 - accuracy: 0.1125\n",
      "Epoch 22/50\n",
      "72/72 [==============================] - 24s 337ms/step - loss: 3.0657 - accuracy: 0.1090\n",
      "Epoch 23/50\n",
      "72/72 [==============================] - 26s 354ms/step - loss: 3.0184 - accuracy: 0.0997\n",
      "Epoch 24/50\n",
      "72/72 [==============================] - 25s 350ms/step - loss: 3.0347 - accuracy: 0.1090\n",
      "Epoch 25/50\n",
      "72/72 [==============================] - 26s 358ms/step - loss: 3.0304 - accuracy: 0.1049\n",
      "Epoch 26/50\n",
      "72/72 [==============================] - 25s 346ms/step - loss: 3.0123 - accuracy: 0.1056\n",
      "Epoch 27/50\n",
      "72/72 [==============================] - 25s 350ms/step - loss: 3.0211 - accuracy: 0.1125\n",
      "Epoch 28/50\n",
      "72/72 [==============================] - 26s 361ms/step - loss: 2.9986 - accuracy: 0.1160\n",
      "Epoch 29/50\n",
      "72/72 [==============================] - 25s 348ms/step - loss: 3.0123 - accuracy: 0.1060\n",
      "Epoch 30/50\n",
      "72/72 [==============================] - 25s 348ms/step - loss: 3.0317 - accuracy: 0.1111\n",
      "Epoch 31/50\n",
      "72/72 [==============================] - 25s 344ms/step - loss: 3.0166 - accuracy: 0.1083\n",
      "Epoch 32/50\n",
      "72/72 [==============================] - 25s 345ms/step - loss: 2.9800 - accuracy: 0.1410\n",
      "Epoch 33/50\n",
      "72/72 [==============================] - 25s 346ms/step - loss: 2.9429 - accuracy: 0.1285\n",
      "Epoch 34/50\n",
      "72/72 [==============================] - 25s 343ms/step - loss: 2.9819 - accuracy: 0.1264\n",
      "Epoch 35/50\n",
      "72/72 [==============================] - 25s 345ms/step - loss: 2.9604 - accuracy: 0.1206\n",
      "Epoch 36/50\n",
      "72/72 [==============================] - 25s 350ms/step - loss: 2.9441 - accuracy: 0.1292\n",
      "Epoch 37/50\n",
      "72/72 [==============================] - 24s 337ms/step - loss: 2.9511 - accuracy: 0.1299\n",
      "Epoch 38/50\n",
      "72/72 [==============================] - 25s 343ms/step - loss: 2.9757 - accuracy: 0.1139\n",
      "Epoch 39/50\n",
      "72/72 [==============================] - 25s 341ms/step - loss: 2.9696 - accuracy: 0.1153\n",
      "Epoch 40/50\n",
      "72/72 [==============================] - 25s 344ms/step - loss: 2.9443 - accuracy: 0.1264\n",
      "Epoch 41/50\n",
      "72/72 [==============================] - 25s 340ms/step - loss: 2.9763 - accuracy: 0.1179\n",
      "Epoch 42/50\n",
      "72/72 [==============================] - 25s 342ms/step - loss: 2.9437 - accuracy: 0.1311\n",
      "Epoch 43/50\n",
      "72/72 [==============================] - 25s 352ms/step - loss: 2.9667 - accuracy: 0.1243\n",
      "Epoch 44/50\n",
      "72/72 [==============================] - 25s 342ms/step - loss: 2.9255 - accuracy: 0.1361\n",
      "Epoch 45/50\n",
      "72/72 [==============================] - 25s 352ms/step - loss: 2.9285 - accuracy: 0.1360\n",
      "Epoch 46/50\n",
      "72/72 [==============================] - 25s 339ms/step - loss: 2.9407 - accuracy: 0.1165\n",
      "Epoch 47/50\n",
      "72/72 [==============================] - 25s 352ms/step - loss: 2.8946 - accuracy: 0.1347\n",
      "Epoch 48/50\n",
      "72/72 [==============================] - 25s 347ms/step - loss: 2.9342 - accuracy: 0.1346\n",
      "Epoch 49/50\n",
      "72/72 [==============================] - 25s 341ms/step - loss: 2.9404 - accuracy: 0.1257\n",
      "Epoch 50/50\n",
      "72/72 [==============================] - 25s 341ms/step - loss: 2.9062 - accuracy: 0.1297\n"
     ]
    },
    {
     "data": {
      "text/plain": [
       "<keras.callbacks.History at 0x1d06614d340>"
      ]
     },
     "execution_count": 30,
     "metadata": {},
     "output_type": "execute_result"
    }
   ],
   "source": [
    "pattern.fit(\n",
    "    train_processing,\n",
    "    steps_per_epoch=train_sample // lot_size,\n",
    "    epochs=epochs,\n",
    "    validation_data=validation_processing,\n",
    "    validation_steps=validation_sample  // lot_size)"
   ]
  },
  {
   "cell_type": "code",
   "execution_count": 36,
   "metadata": {},
   "outputs": [
    {
     "name": "stdout",
     "output_type": "stream",
     "text": [
      "INFO:tensorflow:Assets written to: path\\assets\n"
     ]
    },
    {
     "data": {
      "text/plain": [
       "array([[0.07904281, 0.05828839, 0.0182509 , ..., 0.09746155, 0.0279987 ,\n",
       "        0.01086622],\n",
       "       [0.03709267, 0.04230238, 0.02700934, ..., 0.01881019, 0.03618023,\n",
       "        0.07000037],\n",
       "       [0.05710938, 0.05034692, 0.01551873, ..., 0.09050318, 0.03324211,\n",
       "        0.01894473],\n",
       "       ...,\n",
       "       [0.03440319, 0.03021442, 0.00995937, ..., 0.01477079, 0.07878499,\n",
       "        0.11233975],\n",
       "       [0.04690287, 0.03593316, 0.10298908, ..., 0.02491231, 0.02482214,\n",
       "        0.03594832],\n",
       "       [0.00687458, 0.00461717, 0.01341993, ..., 0.00533732, 0.0300041 ,\n",
       "        0.22641417]], dtype=float32)"
      ]
     },
     "execution_count": 36,
     "metadata": {},
     "output_type": "execute_result"
    }
   ],
   "source": [
    "pattern.save_weights('first_model_weights.h5') #Сохранение весов модели\n",
    "pattern.save('path') #Сохранение модели\n",
    "pattern.load_weights('first_model_weights.h5') # Загрузка весов модели\n",
    "image_prediction = pattern.predict(validation_processing) #Использование модели для предсказания\n",
    "image_prediction"
   ]
  },
  {
   "cell_type": "markdown",
   "metadata": {},
   "source": [
    "## Meta model\n",
    "Model that learns how to best combine the predictions of the base models"
   ]
  },
  {
   "cell_type": "code",
   "execution_count": 65,
   "metadata": {},
   "outputs": [],
   "source": [
    "from sklearn import tree\n",
    "from sklearn import metrics\n",
    "import numpy as np\n",
    "import matplotlib.pyplot as plt\n",
    "import pandas as pd\n",
    "import numpy as np\n",
    "from sklearn.ensemble import RandomForestClassifier\n",
    "from sklearn.tree import DecisionTreeClassifier"
   ]
  },
  {
   "cell_type": "markdown",
   "metadata": {},
   "source": [
    "### Prepare data"
   ]
  },
  {
   "cell_type": "markdown",
   "metadata": {},
   "source": [
    "Combine output vectors of two base models into one vector per sample for the input of meta model"
   ]
  },
  {
   "cell_type": "code",
   "execution_count": 62,
   "metadata": {},
   "outputs": [
    {
     "name": "stdout",
     "output_type": "stream",
     "text": [
      "['Western', 'Romance', 'Drama', 'Film-Noir', 'Drama', 'Crime', 'Film-Noir', 'Horror', 'Sci-Fi', 'Biography']\n"
     ]
    }
   ],
   "source": [
    "samples_num = min(len(text_prediction), len(image_prediction))\n",
    "features_num = len(text_prediction[0]) + len(image_prediction[0])\n",
    "\n",
    "concatenated_input = np.zeros((samples_num, features_num))\n",
    "target_output = []\n",
    "\n",
    "# Concatenate two output vectors\n",
    "for idx in range(samples_num):\n",
    "    concatenated_input[idx] = np.concatenate((text_prediction[idx], image_prediction[idx]))\n",
    "    # Set true class\n",
    "    target_output.append(xval_with_genre[\"genre\"].iloc[idx])\n",
    "\n",
    "print(target_output[:10])\n"
   ]
  },
  {
   "cell_type": "code",
   "execution_count": 92,
   "metadata": {},
   "outputs": [],
   "source": [
    "train_input_final, test_input_final, train_output_real, test_output_real = train_test_split(concatenated_input, target_output, test_size=0.3, random_state=9)"
   ]
  },
  {
   "cell_type": "markdown",
   "metadata": {},
   "source": [
    "Fit meta model for train data"
   ]
  },
  {
   "cell_type": "code",
   "execution_count": 93,
   "metadata": {},
   "outputs": [],
   "source": [
    "clf = tree.DecisionTreeClassifier(random_state=0)\n",
    "clf = clf.fit(train_input_final, train_output_real)"
   ]
  },
  {
   "cell_type": "markdown",
   "metadata": {},
   "source": [
    "Make prediction for full data"
   ]
  },
  {
   "cell_type": "code",
   "execution_count": 94,
   "metadata": {},
   "outputs": [
    {
     "name": "stdout",
     "output_type": "stream",
     "text": [
      "['Western' 'Romance' 'Romance' 'Film-Noir' 'Superhero' 'Crime' 'Musical'\n",
      " 'Horror' 'Sci-Fi' 'Biography']\n"
     ]
    }
   ],
   "source": [
    "predicted_y = clf.predict(concatenated_input)\n",
    "y_out_proba = clf.predict_proba(concatenated_input)\n",
    "print(predicted_y[:10])"
   ]
  },
  {
   "cell_type": "markdown",
   "metadata": {},
   "source": [
    "Calculate final metrics"
   ]
  },
  {
   "cell_type": "code",
   "execution_count": 96,
   "metadata": {},
   "outputs": [
    {
     "name": "stdout",
     "output_type": "stream",
     "text": [
      "Accuracy:   0.7611710323574731\n",
      "Precision:  0.7739056872149485\n",
      "Recall:     0.7638526060998382\n",
      "F1-score:   0.7617285283465067\n"
     ]
    }
   ],
   "source": [
    "# Metrics for this binary classification with moved threshold\n",
    "print('Accuracy:  ', metrics.accuracy_score(target_output,predicted_y))\n",
    "print('Precision: ', metrics.precision_score(target_output,predicted_y, average=\"macro\"))\n",
    "print('Recall:    ', metrics.recall_score(target_output,predicted_y, average=\"macro\"))\n",
    "print('F1-score:  ', metrics.f1_score(target_output,predicted_y, average=\"macro\"))"
   ]
  },
  {
   "cell_type": "code",
   "execution_count": 97,
   "metadata": {},
   "outputs": [
    {
     "name": "stderr",
     "output_type": "stream",
     "text": [
      "c:\\Users\\vando\\AppData\\Local\\Programs\\Python\\Python39\\lib\\site-packages\\sklearn\\metrics\\_classification.py:1308: UndefinedMetricWarning: Precision is ill-defined and being set to 0.0 due to no predicted samples. Use `zero_division` parameter to control this behavior.\n",
      "  _warn_prf(average, modifier, msg_start, len(result))\n",
      "c:\\Users\\vando\\AppData\\Local\\Programs\\Python\\Python39\\lib\\site-packages\\sklearn\\metrics\\_classification.py:1308: UndefinedMetricWarning: Precision is ill-defined and being set to 0.0 due to no predicted samples. Use `zero_division` parameter to control this behavior.\n",
      "  _warn_prf(average, modifier, msg_start, len(result))\n",
      "c:\\Users\\vando\\AppData\\Local\\Programs\\Python\\Python39\\lib\\site-packages\\sklearn\\metrics\\_classification.py:1308: UndefinedMetricWarning: Precision is ill-defined and being set to 0.0 due to no predicted samples. Use `zero_division` parameter to control this behavior.\n",
      "  _warn_prf(average, modifier, msg_start, len(result))\n"
     ]
    },
    {
     "data": {
      "image/png": "[encoded data removed]",
      "text/plain": [
       "<Figure size 432x288 with 1 Axes>"
      ]
     },
     "metadata": {
      "needs_background": "light"
     },
     "output_type": "display_data"
    }
   ],
   "source": [
    "thresholds = np.linspace(0, 1)\n",
    "f1_scores = []\n",
    "recall_scores = []\n",
    "precision_scores = []\n",
    "\n",
    "for t in thresholds:\n",
    "    y_pred_new = (y_pred_prob >= t).astype(int)\n",
    "    f1_scores.append(f1_score(yval, y_pred_new, average=\"micro\"))\n",
    "    recall_scores.append(metrics.recall_score(yval, y_pred_new, average=\"micro\"))\n",
    "    precision_scores.append(metrics.precision_score(yval, y_pred_new, average=\"micro\"))\n",
    "\n",
    "plt.plot(thresholds, f1_scores, label='f1')\n",
    "plt.plot(thresholds, recall_scores, label='recall')\n",
    "plt.plot(thresholds, precision_scores, label='precision')\n",
    "plt.legend()\n",
    "plt.show()"
   ]
  }
 ],
 "metadata": {
  "kernelspec": {
   "display_name": "Python 3.9.0 64-bit",
   "language": "python",
   "name": "python3"
  },
  "language_info": {
   "codemirror_mode": {
    "name": "ipython",
    "version": 3
   },
   "file_extension": ".py",
   "mimetype": "text/x-python",
   "name": "python",
   "nbconvert_exporter": "python",
   "pygments_lexer": "ipython3",
   "version": "3.9.0"
  },
  "orig_nbformat": 4,
  "vscode": {
   "interpreter": {
    "hash": "b88da69d0524a2097e60fba7c61384b07ebcdb1fd302d07d2da8baca35fba09f"
   }
  }
 },
 "nbformat": 4,
 "nbformat_minor": 2
}
