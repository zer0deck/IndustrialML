{
 "cells": [
  {
   "cell_type": "markdown",
   "id": "07a9f4d5",
   "metadata": {},
   "source": [
    "### Lab 2."
   ]
  },
  {
   "cell_type": "code",
   "execution_count": 1,
   "metadata": {},
   "outputs": [
    {
     "name": "stderr",
     "output_type": "stream",
     "text": [
      "[nltk_data] Downloading package stopwords to\n",
      "[nltk_data]     C:\\Users\\sorok\\AppData\\Roaming\\nltk_data...\n",
      "[nltk_data]   Package stopwords is already up-to-date!\n"
     ]
    }
   ],
   "source": [
    "import torch\n",
    "import torch.nn as nn\n",
    "import numpy as np\n",
    "import pandas as pd\n",
    "import torch.functional as F\n",
    "import sklearn\n",
    "import matplotlib.pyplot as plt\n",
    "import seaborn as sns\n",
    "from transformers import BertTokenizer, BertForSequenceClassification\n",
    "from torch.utils.data import Dataset, DataLoader\n",
    "from sklearn.model_selection import train_test_split\n",
    "import nltk\n",
    "import re\n",
    "nltk.download('stopwords')\n",
    "from nltk.corpus import stopwords\n",
    "from nltk.stem.porter import PorterStemmer\n",
    "import pytorch_lightning as pl\n",
    "import typing\n",
    "import torchvision\n",
    "from torchvision import transforms\n",
    "from sklearn import metrics"
   ]
  },
  {
   "cell_type": "code",
   "execution_count": 2,
   "metadata": {},
   "outputs": [
    {
     "data": {
      "text/plain": [
       "title          False\n",
       "genre          False\n",
       "description     True\n",
       "img_link       False\n",
       "dtype: bool"
      ]
     },
     "execution_count": 2,
     "metadata": {},
     "output_type": "execute_result"
    }
   ],
   "source": [
    "df = pd.read_csv(\"data.csv\", sep=';')\n",
    "df.isna().any()"
   ]
  },
  {
   "cell_type": "code",
   "execution_count": 3,
   "metadata": {},
   "outputs": [],
   "source": [
    "df = df.dropna()"
   ]
  },
  {
   "cell_type": "code",
   "execution_count": 4,
   "metadata": {},
   "outputs": [
    {
     "data": {
      "text/plain": [
       "title          False\n",
       "genre          False\n",
       "description    False\n",
       "img_link       False\n",
       "dtype: bool"
      ]
     },
     "execution_count": 4,
     "metadata": {},
     "output_type": "execute_result"
    }
   ],
   "source": [
    "df.isna().any()"
   ]
  },
  {
   "cell_type": "code",
   "execution_count": 5,
   "metadata": {},
   "outputs": [
    {
     "data": {
      "image/png": "[encoded data removed]",
      "text/plain": [
       "<Figure size 1080x504 with 1 Axes>"
      ]
     },
     "metadata": {
      "needs_background": "light"
     },
     "output_type": "display_data"
    }
   ],
   "source": [
    "plt.figure(figsize=(15,7))\n",
    "sns.countplot(x='genre', data=df, edgecolor=(0,0,0))\n",
    "plt.xticks(rotation=45)\n",
    "plt.xlabel('Movie Genres')\n",
    "plt.ylabel('Count')\n",
    "plt.title('Genre count')\n",
    "plt.show()"
   ]
  },
  {
   "cell_type": "code",
   "execution_count": 6,
   "metadata": {},
   "outputs": [
    {
     "data": {
      "text/html": [
       "<div>\n",
       "<style scoped>\n",
       "    .dataframe tbody tr th:only-of-type {\n",
       "        vertical-align: middle;\n",
       "    }\n",
       "\n",
       "    .dataframe tbody tr th {\n",
       "        vertical-align: top;\n",
       "    }\n",
       "\n",
       "    .dataframe thead th {\n",
       "        text-align: right;\n",
       "    }\n",
       "</style>\n",
       "<table border=\"1\" class=\"dataframe\">\n",
       "  <thead>\n",
       "    <tr style=\"text-align: right;\">\n",
       "      <th></th>\n",
       "      <th>title</th>\n",
       "      <th>description</th>\n",
       "      <th>img_link</th>\n",
       "      <th>Action</th>\n",
       "      <th>Adventure</th>\n",
       "      <th>Animation</th>\n",
       "      <th>Biography</th>\n",
       "      <th>Comedy</th>\n",
       "      <th>Crime</th>\n",
       "      <th>Documentary</th>\n",
       "      <th>...</th>\n",
       "      <th>Musical</th>\n",
       "      <th>Mystery</th>\n",
       "      <th>Romance</th>\n",
       "      <th>Sci-Fi</th>\n",
       "      <th>Short</th>\n",
       "      <th>Sport</th>\n",
       "      <th>Superhero</th>\n",
       "      <th>Thriller</th>\n",
       "      <th>War</th>\n",
       "      <th>Western</th>\n",
       "    </tr>\n",
       "  </thead>\n",
       "  <tbody>\n",
       "    <tr>\n",
       "      <th>0</th>\n",
       "      <td>Black Panther: Wakanda Forever</td>\n",
       "      <td>The people of Wakanda fight to protect their h...</td>\n",
       "      <td>Action_01.jpg</td>\n",
       "      <td>1</td>\n",
       "      <td>0</td>\n",
       "      <td>0</td>\n",
       "      <td>0</td>\n",
       "      <td>0</td>\n",
       "      <td>0</td>\n",
       "      <td>0</td>\n",
       "      <td>...</td>\n",
       "      <td>0</td>\n",
       "      <td>0</td>\n",
       "      <td>0</td>\n",
       "      <td>0</td>\n",
       "      <td>0</td>\n",
       "      <td>0</td>\n",
       "      <td>0</td>\n",
       "      <td>0</td>\n",
       "      <td>0</td>\n",
       "      <td>0</td>\n",
       "    </tr>\n",
       "    <tr>\n",
       "      <th>1</th>\n",
       "      <td>Andor</td>\n",
       "      <td>Prequel series to Star Wars' 'Rogue One'. In a...</td>\n",
       "      <td>Action_02.jpg</td>\n",
       "      <td>1</td>\n",
       "      <td>0</td>\n",
       "      <td>0</td>\n",
       "      <td>0</td>\n",
       "      <td>0</td>\n",
       "      <td>0</td>\n",
       "      <td>0</td>\n",
       "      <td>...</td>\n",
       "      <td>0</td>\n",
       "      <td>0</td>\n",
       "      <td>0</td>\n",
       "      <td>0</td>\n",
       "      <td>0</td>\n",
       "      <td>0</td>\n",
       "      <td>0</td>\n",
       "      <td>0</td>\n",
       "      <td>0</td>\n",
       "      <td>0</td>\n",
       "    </tr>\n",
       "    <tr>\n",
       "      <th>2</th>\n",
       "      <td>Black Adam</td>\n",
       "      <td>Nearly 5,000 years after he was bestowed with ...</td>\n",
       "      <td>Action_03.jpg</td>\n",
       "      <td>1</td>\n",
       "      <td>0</td>\n",
       "      <td>0</td>\n",
       "      <td>0</td>\n",
       "      <td>0</td>\n",
       "      <td>0</td>\n",
       "      <td>0</td>\n",
       "      <td>...</td>\n",
       "      <td>0</td>\n",
       "      <td>0</td>\n",
       "      <td>0</td>\n",
       "      <td>0</td>\n",
       "      <td>0</td>\n",
       "      <td>0</td>\n",
       "      <td>0</td>\n",
       "      <td>0</td>\n",
       "      <td>0</td>\n",
       "      <td>0</td>\n",
       "    </tr>\n",
       "    <tr>\n",
       "      <th>3</th>\n",
       "      <td>House of the Dragon</td>\n",
       "      <td>An internal succession war within House Targar...</td>\n",
       "      <td>Action_04.jpg</td>\n",
       "      <td>1</td>\n",
       "      <td>0</td>\n",
       "      <td>0</td>\n",
       "      <td>0</td>\n",
       "      <td>0</td>\n",
       "      <td>0</td>\n",
       "      <td>0</td>\n",
       "      <td>...</td>\n",
       "      <td>0</td>\n",
       "      <td>0</td>\n",
       "      <td>0</td>\n",
       "      <td>0</td>\n",
       "      <td>0</td>\n",
       "      <td>0</td>\n",
       "      <td>0</td>\n",
       "      <td>0</td>\n",
       "      <td>0</td>\n",
       "      <td>0</td>\n",
       "    </tr>\n",
       "    <tr>\n",
       "      <th>4</th>\n",
       "      <td>Warrior Nun</td>\n",
       "      <td>After waking up in a morgue, an orphaned teen ...</td>\n",
       "      <td>Action_05.jpg</td>\n",
       "      <td>1</td>\n",
       "      <td>0</td>\n",
       "      <td>0</td>\n",
       "      <td>0</td>\n",
       "      <td>0</td>\n",
       "      <td>0</td>\n",
       "      <td>0</td>\n",
       "      <td>...</td>\n",
       "      <td>0</td>\n",
       "      <td>0</td>\n",
       "      <td>0</td>\n",
       "      <td>0</td>\n",
       "      <td>0</td>\n",
       "      <td>0</td>\n",
       "      <td>0</td>\n",
       "      <td>0</td>\n",
       "      <td>0</td>\n",
       "      <td>0</td>\n",
       "    </tr>\n",
       "  </tbody>\n",
       "</table>\n",
       "<p>5 rows × 27 columns</p>\n",
       "</div>"
      ],
      "text/plain": [
       "                            title  \\\n",
       "0  Black Panther: Wakanda Forever   \n",
       "1                           Andor   \n",
       "2                      Black Adam   \n",
       "3             House of the Dragon   \n",
       "4                     Warrior Nun   \n",
       "\n",
       "                                         description       img_link  Action  \\\n",
       "0  The people of Wakanda fight to protect their h...  Action_01.jpg       1   \n",
       "1  Prequel series to Star Wars' 'Rogue One'. In a...  Action_02.jpg       1   \n",
       "2  Nearly 5,000 years after he was bestowed with ...  Action_03.jpg       1   \n",
       "3  An internal succession war within House Targar...  Action_04.jpg       1   \n",
       "4  After waking up in a morgue, an orphaned teen ...  Action_05.jpg       1   \n",
       "\n",
       "   Adventure  Animation  Biography  Comedy  Crime  Documentary  ...  Musical  \\\n",
       "0          0          0          0       0      0            0  ...        0   \n",
       "1          0          0          0       0      0            0  ...        0   \n",
       "2          0          0          0       0      0            0  ...        0   \n",
       "3          0          0          0       0      0            0  ...        0   \n",
       "4          0          0          0       0      0            0  ...        0   \n",
       "\n",
       "   Mystery  Romance  Sci-Fi  Short  Sport  Superhero  Thriller  War  Western  \n",
       "0        0        0       0      0      0          0         0    0        0  \n",
       "1        0        0       0      0      0          0         0    0        0  \n",
       "2        0        0       0      0      0          0         0    0        0  \n",
       "3        0        0       0      0      0          0         0    0        0  \n",
       "4        0        0       0      0      0          0         0    0        0  \n",
       "\n",
       "[5 rows x 27 columns]"
      ]
     },
     "execution_count": 6,
     "metadata": {},
     "output_type": "execute_result"
    }
   ],
   "source": [
    "one_hot = pd.get_dummies(df['genre'])\n",
    "df = df.drop(['genre'], axis = 1)\n",
    "df = df.join(one_hot)\n",
    "df.head()"
   ]
  },
  {
   "cell_type": "code",
   "execution_count": 7,
   "metadata": {},
   "outputs": [
    {
     "data": {
      "text/plain": [
       "\"genre_mapper = {'Action': 0, 'Adventure': 1, 'Animation': 2, 'Biography':3, 'Comedy':4, 'Crime':5, 'Documentary':6, 'Drama':7, 'Family': 8,\\n                'Fantasy': 9, 'Film-Noir': 10, 'History': 11, 'Horror':12, 'Music':13, 'Musical':14, 'Mystery':15, 'Romance':16, 'Sci-Fi': 17,\\n                'Short': 18, 'Sport': 19, 'Superhero': 20, 'Thriller':21, 'War':22, 'Western':23}\\ndf['genre'] = df['genre'].map(genre_mapper)\\ndf.head(10)\""
      ]
     },
     "execution_count": 7,
     "metadata": {},
     "output_type": "execute_result"
    }
   ],
   "source": [
    "'''genre_mapper = {'Action': 0, 'Adventure': 1, 'Animation': 2, 'Biography':3, 'Comedy':4, 'Crime':5, 'Documentary':6, 'Drama':7, 'Family': 8,\n",
    "                'Fantasy': 9, 'Film-Noir': 10, 'History': 11, 'Horror':12, 'Music':13, 'Musical':14, 'Mystery':15, 'Romance':16, 'Sci-Fi': 17,\n",
    "                'Short': 18, 'Sport': 19, 'Superhero': 20, 'Thriller':21, 'War':22, 'Western':23}\n",
    "df['genre'] = df['genre'].map(genre_mapper)\n",
    "df.head(10)'''"
   ]
  },
  {
   "cell_type": "markdown",
   "metadata": {},
   "source": [
    "### Text Processing"
   ]
  },
  {
   "cell_type": "code",
   "execution_count": 8,
   "metadata": {},
   "outputs": [],
   "source": [
    "# Text preprocessing\n",
    "\n",
    "def preprocess_text(text, stemm=False, lemm=True, stopwords=None):\n",
    "  # Remove punctuations, lowercase, strip\n",
    "  text = re.sub(r'[^\\w\\s]', '', str(text).lower().strip())\n",
    "          \n",
    "  # Tokenize\n",
    "  texts = text.split()    \n",
    "  # Remove Stopwords\n",
    "  if stopwords is not None:\n",
    "      texts = [word for word in texts if word not in stopwords]\n",
    "              \n",
    "  # Stemming\n",
    "  if stemm == True:\n",
    "      ps = nltk.stem.porter.PorterStemmer()\n",
    "      texts = [ps.stem(word) for word in texts]\n",
    "              \n",
    "  # Lemmatisation\n",
    "  if lemm == True:\n",
    "      lem = nltk.stem.wordnet.WordNetLemmatizer()\n",
    "      texts = [lem.lemmatize(word) for word in texts]\n",
    "          \n",
    "  # Collect lists\n",
    "  text = \" \".join(texts)\n",
    "  return text"
   ]
  },
  {
   "cell_type": "code",
   "execution_count": 9,
   "metadata": {},
   "outputs": [],
   "source": [
    "# Loading stopwords dict\n",
    "stopwords = nltk.corpus.stopwords.words(\"english\")"
   ]
  },
  {
   "cell_type": "code",
   "execution_count": 10,
   "metadata": {},
   "outputs": [
    {
     "data": {
      "text/html": [
       "<div>\n",
       "<style scoped>\n",
       "    .dataframe tbody tr th:only-of-type {\n",
       "        vertical-align: middle;\n",
       "    }\n",
       "\n",
       "    .dataframe tbody tr th {\n",
       "        vertical-align: top;\n",
       "    }\n",
       "\n",
       "    .dataframe thead th {\n",
       "        text-align: right;\n",
       "    }\n",
       "</style>\n",
       "<table border=\"1\" class=\"dataframe\">\n",
       "  <thead>\n",
       "    <tr style=\"text-align: right;\">\n",
       "      <th></th>\n",
       "      <th>title</th>\n",
       "      <th>description</th>\n",
       "      <th>img_link</th>\n",
       "      <th>Action</th>\n",
       "      <th>Adventure</th>\n",
       "      <th>Animation</th>\n",
       "      <th>Biography</th>\n",
       "      <th>Comedy</th>\n",
       "      <th>Crime</th>\n",
       "      <th>Documentary</th>\n",
       "      <th>...</th>\n",
       "      <th>Romance</th>\n",
       "      <th>Sci-Fi</th>\n",
       "      <th>Short</th>\n",
       "      <th>Sport</th>\n",
       "      <th>Superhero</th>\n",
       "      <th>Thriller</th>\n",
       "      <th>War</th>\n",
       "      <th>Western</th>\n",
       "      <th>clean_title</th>\n",
       "      <th>clean_description</th>\n",
       "    </tr>\n",
       "  </thead>\n",
       "  <tbody>\n",
       "    <tr>\n",
       "      <th>0</th>\n",
       "      <td>Black Panther: Wakanda Forever</td>\n",
       "      <td>The people of Wakanda fight to protect their h...</td>\n",
       "      <td>Action_01.jpg</td>\n",
       "      <td>1</td>\n",
       "      <td>0</td>\n",
       "      <td>0</td>\n",
       "      <td>0</td>\n",
       "      <td>0</td>\n",
       "      <td>0</td>\n",
       "      <td>0</td>\n",
       "      <td>...</td>\n",
       "      <td>0</td>\n",
       "      <td>0</td>\n",
       "      <td>0</td>\n",
       "      <td>0</td>\n",
       "      <td>0</td>\n",
       "      <td>0</td>\n",
       "      <td>0</td>\n",
       "      <td>0</td>\n",
       "      <td>black panther wakanda forever</td>\n",
       "      <td>people wakanda fight protect home intervening ...</td>\n",
       "    </tr>\n",
       "    <tr>\n",
       "      <th>1</th>\n",
       "      <td>Andor</td>\n",
       "      <td>Prequel series to Star Wars' 'Rogue One'. In a...</td>\n",
       "      <td>Action_02.jpg</td>\n",
       "      <td>1</td>\n",
       "      <td>0</td>\n",
       "      <td>0</td>\n",
       "      <td>0</td>\n",
       "      <td>0</td>\n",
       "      <td>0</td>\n",
       "      <td>0</td>\n",
       "      <td>...</td>\n",
       "      <td>0</td>\n",
       "      <td>0</td>\n",
       "      <td>0</td>\n",
       "      <td>0</td>\n",
       "      <td>0</td>\n",
       "      <td>0</td>\n",
       "      <td>0</td>\n",
       "      <td>0</td>\n",
       "      <td>andor</td>\n",
       "      <td>prequel series star war rogue one era filled d...</td>\n",
       "    </tr>\n",
       "    <tr>\n",
       "      <th>2</th>\n",
       "      <td>Black Adam</td>\n",
       "      <td>Nearly 5,000 years after he was bestowed with ...</td>\n",
       "      <td>Action_03.jpg</td>\n",
       "      <td>1</td>\n",
       "      <td>0</td>\n",
       "      <td>0</td>\n",
       "      <td>0</td>\n",
       "      <td>0</td>\n",
       "      <td>0</td>\n",
       "      <td>0</td>\n",
       "      <td>...</td>\n",
       "      <td>0</td>\n",
       "      <td>0</td>\n",
       "      <td>0</td>\n",
       "      <td>0</td>\n",
       "      <td>0</td>\n",
       "      <td>0</td>\n",
       "      <td>0</td>\n",
       "      <td>0</td>\n",
       "      <td>black adam</td>\n",
       "      <td>nearly 5000 year bestowed almighty power egypt...</td>\n",
       "    </tr>\n",
       "    <tr>\n",
       "      <th>3</th>\n",
       "      <td>House of the Dragon</td>\n",
       "      <td>An internal succession war within House Targar...</td>\n",
       "      <td>Action_04.jpg</td>\n",
       "      <td>1</td>\n",
       "      <td>0</td>\n",
       "      <td>0</td>\n",
       "      <td>0</td>\n",
       "      <td>0</td>\n",
       "      <td>0</td>\n",
       "      <td>0</td>\n",
       "      <td>...</td>\n",
       "      <td>0</td>\n",
       "      <td>0</td>\n",
       "      <td>0</td>\n",
       "      <td>0</td>\n",
       "      <td>0</td>\n",
       "      <td>0</td>\n",
       "      <td>0</td>\n",
       "      <td>0</td>\n",
       "      <td>house dragon</td>\n",
       "      <td>internal succession war within house targaryen...</td>\n",
       "    </tr>\n",
       "    <tr>\n",
       "      <th>4</th>\n",
       "      <td>Warrior Nun</td>\n",
       "      <td>After waking up in a morgue, an orphaned teen ...</td>\n",
       "      <td>Action_05.jpg</td>\n",
       "      <td>1</td>\n",
       "      <td>0</td>\n",
       "      <td>0</td>\n",
       "      <td>0</td>\n",
       "      <td>0</td>\n",
       "      <td>0</td>\n",
       "      <td>0</td>\n",
       "      <td>...</td>\n",
       "      <td>0</td>\n",
       "      <td>0</td>\n",
       "      <td>0</td>\n",
       "      <td>0</td>\n",
       "      <td>0</td>\n",
       "      <td>0</td>\n",
       "      <td>0</td>\n",
       "      <td>0</td>\n",
       "      <td>warrior nun</td>\n",
       "      <td>waking morgue orphaned teen discovers posse su...</td>\n",
       "    </tr>\n",
       "  </tbody>\n",
       "</table>\n",
       "<p>5 rows × 29 columns</p>\n",
       "</div>"
      ],
      "text/plain": [
       "                            title  \\\n",
       "0  Black Panther: Wakanda Forever   \n",
       "1                           Andor   \n",
       "2                      Black Adam   \n",
       "3             House of the Dragon   \n",
       "4                     Warrior Nun   \n",
       "\n",
       "                                         description       img_link  Action  \\\n",
       "0  The people of Wakanda fight to protect their h...  Action_01.jpg       1   \n",
       "1  Prequel series to Star Wars' 'Rogue One'. In a...  Action_02.jpg       1   \n",
       "2  Nearly 5,000 years after he was bestowed with ...  Action_03.jpg       1   \n",
       "3  An internal succession war within House Targar...  Action_04.jpg       1   \n",
       "4  After waking up in a morgue, an orphaned teen ...  Action_05.jpg       1   \n",
       "\n",
       "   Adventure  Animation  Biography  Comedy  Crime  Documentary  ...  Romance  \\\n",
       "0          0          0          0       0      0            0  ...        0   \n",
       "1          0          0          0       0      0            0  ...        0   \n",
       "2          0          0          0       0      0            0  ...        0   \n",
       "3          0          0          0       0      0            0  ...        0   \n",
       "4          0          0          0       0      0            0  ...        0   \n",
       "\n",
       "   Sci-Fi  Short  Sport  Superhero  Thriller  War  Western  \\\n",
       "0       0      0      0          0         0    0        0   \n",
       "1       0      0      0          0         0    0        0   \n",
       "2       0      0      0          0         0    0        0   \n",
       "3       0      0      0          0         0    0        0   \n",
       "4       0      0      0          0         0    0        0   \n",
       "\n",
       "                     clean_title  \\\n",
       "0  black panther wakanda forever   \n",
       "1                          andor   \n",
       "2                     black adam   \n",
       "3                   house dragon   \n",
       "4                    warrior nun   \n",
       "\n",
       "                                   clean_description  \n",
       "0  people wakanda fight protect home intervening ...  \n",
       "1  prequel series star war rogue one era filled d...  \n",
       "2  nearly 5000 year bestowed almighty power egypt...  \n",
       "3  internal succession war within house targaryen...  \n",
       "4  waking morgue orphaned teen discovers posse su...  \n",
       "\n",
       "[5 rows x 29 columns]"
      ]
     },
     "execution_count": 10,
     "metadata": {},
     "output_type": "execute_result"
    }
   ],
   "source": [
    "# Doing preprocessing on texts\n",
    "df['clean_title'] = df[\"title\"].apply(lambda x: \n",
    "          preprocess_text(x, stemm=False, lemm=True, stopwords=stopwords))\n",
    "df['clean_description'] = df[\"description\"].apply(lambda x: \n",
    "          preprocess_text(x, stemm=False, lemm=True, stopwords=stopwords))\n",
    "df.head()"
   ]
  },
  {
   "cell_type": "code",
   "execution_count": 11,
   "metadata": {},
   "outputs": [],
   "source": [
    "X = df[['clean_title', 'clean_description', 'img_link']]\n",
    "y = df[one_hot.columns.tolist()]\n",
    "X_train, X_test, y_train, y_test = train_test_split(X, y, test_size=0.2, random_state=42)"
   ]
  },
  {
   "cell_type": "code",
   "execution_count": 12,
   "metadata": {},
   "outputs": [],
   "source": [
    "class FilmPreditor(pl.LightningModule):\n",
    "  def __init__(self, predictor: nn.Module, criterion: nn.Module, optimizer_callback: typing.Callable):\n",
    "    super().__init__()\n",
    "    self.predictor = predictor\n",
    "    self.criterion = criterion\n",
    "    self.optimizer_callback = optimizer_callback\n",
    "  \n",
    "  def forward(self, x):\n",
    "    probs = self.predictor(x)\n",
    "    return probs\n",
    "  \n",
    "  def training_step(self, train_batch, batch_idx):\n",
    "    x, y = train_batch\n",
    "    preds = self.predictor(x)\n",
    "    loss = self.criterion(preds, y.float())\n",
    "    self.log('train_loss', loss)\n",
    "    return loss\n",
    "  \n",
    "  def validation_step(self, val_batch, batch_idx):\n",
    "    x, y = val_batch\n",
    "    preds = self.predictor(x)\n",
    "    loss = self.criterion(preds, y.float())\n",
    "    self.log('val_loss', loss)\n",
    "    return loss\n",
    "  \n",
    "  def configure_optimizers(self):\n",
    "    optimizer = self.optimizer_callback(self.predictor.parameters())\n",
    "    return optimizer"
   ]
  },
  {
   "cell_type": "code",
   "execution_count": 13,
   "metadata": {},
   "outputs": [],
   "source": [
    "class FilmCVDataset(Dataset):\n",
    "  def __init__(self, \n",
    "               meta_df: pd.DataFrame, \n",
    "               target_df: pd.DataFrame, \n",
    "               tr: typing.Optional[typing.Callable]=None,\n",
    "               is_inference: bool=False):\n",
    "    self.df = meta_df\n",
    "    self.y = target_df\n",
    "    self.transform = tr\n",
    "    self.is_inference=is_inference\n",
    "  \n",
    "  def __getitem__(self, idx: int):\n",
    "    img_name  = self.df.iloc[idx]['img_link']\n",
    "    image = torchvision.io.read_image('images/' + str(img_name), mode=torchvision.io.ImageReadMode.RGB)\n",
    "\n",
    "    if self.transform is not None:\n",
    "      image = self.transform(image)\n",
    "\n",
    "    if self.is_inference:\n",
    "      return image\n",
    "\n",
    "    target = torch.tensor(self.y.iloc[idx].values)\n",
    "    return image, target\n",
    "  \n",
    "  def __len__(self):\n",
    "    return len(self.df)"
   ]
  },
  {
   "cell_type": "code",
   "execution_count": 14,
   "metadata": {},
   "outputs": [],
   "source": [
    "preload = transforms.Compose([\n",
    "    transforms.ConvertImageDtype(torch.float),\n",
    "    transforms.Resize((224, 224)),\n",
    "    transforms.Normalize((0.485, 0.456, 0.406), (0.229, 0.224, 0.225)),\n",
    "])"
   ]
  },
  {
   "cell_type": "code",
   "execution_count": 15,
   "metadata": {},
   "outputs": [],
   "source": [
    "train_dl = DataLoader(FilmCVDataset(X_train, y_train, preload), batch_size=128, shuffle=True)\n",
    "test_dl = DataLoader(FilmCVDataset(X_test, y_test, preload), batch_size=64, shuffle=False)\n",
    "predict_dl = DataLoader(FilmCVDataset(X_test, y_test, preload, is_inference=True), batch_size=64, shuffle=False)"
   ]
  },
  {
   "cell_type": "code",
   "execution_count": 16,
   "metadata": {},
   "outputs": [],
   "source": [
    "class VisualModel(nn.Module):\n",
    "  def __init__(self, n_classes=24):\n",
    "    super(VisualModel, self).__init__()\n",
    "    self.feature_extractor = torchvision.models.resnet34()\n",
    "    self.model = nn.Sequential(\n",
    "        nn.ReLU(inplace=True),\n",
    "        nn.Linear(1000, 256),\n",
    "        nn.ReLU(inplace=True),\n",
    "        nn.Linear(256, n_classes),\n",
    "        nn.Sigmoid(),\n",
    "    )\n",
    "    self.feature_extractor.requires_grad_(False)\n",
    "  \n",
    "  def forward(self, x):\n",
    "    self.feature_extractor.eval()\n",
    "    with torch.no_grad():\n",
    "      x = self.feature_extractor(x)\n",
    "    return self.model(x)"
   ]
  },
  {
   "cell_type": "code",
   "execution_count": 17,
   "metadata": {},
   "outputs": [],
   "source": [
    "m = VisualModel()\n",
    "visual_predictor = FilmPreditor(m, torch.nn.BCELoss(weight=torch.tensor(1.0 / y_train.mean().values)), lambda x: torch.optim.Adam(x, lr=0.0001))"
   ]
  },
  {
   "cell_type": "code",
   "execution_count": 18,
   "metadata": {},
   "outputs": [
    {
     "name": "stderr",
     "output_type": "stream",
     "text": [
      "GPU available: True (cuda), used: True\n",
      "TPU available: False, using: 0 TPU cores\n",
      "IPU available: False, using: 0 IPUs\n",
      "HPU available: False, using: 0 HPUs\n",
      "`Trainer(limit_val_batches=1)` was configured so 1 batch will be used.\n",
      "LOCAL_RANK: 0 - CUDA_VISIBLE_DEVICES: [0]\n",
      "\n",
      "  | Name      | Type        | Params\n",
      "------------------------------------------\n",
      "0 | predictor | VisualModel | 22.1 M\n",
      "1 | criterion | BCELoss     | 0     \n",
      "------------------------------------------\n",
      "262 K     Trainable params\n",
      "21.8 M    Non-trainable params\n",
      "22.1 M    Total params\n",
      "88.240    Total estimated model params size (MB)\n"
     ]
    },
    {
     "name": "stdout",
     "output_type": "stream",
     "text": [
      "Sanity Checking:   0%|          | 0/1 [00:00<?, ?it/s]"
     ]
    },
    {
     "name": "stderr",
     "output_type": "stream",
     "text": [
      "c:\\Users\\sorok\\AppData\\Local\\Programs\\Python\\Python39\\lib\\site-packages\\pytorch_lightning\\trainer\\connectors\\data_connector.py:224: PossibleUserWarning: The dataloader, val_dataloader 0, does not have many workers which may be a bottleneck. Consider increasing the value of the `num_workers` argument` (try 16 which is the number of cpus on this machine) in the `DataLoader` init to improve performance.\n",
      "  rank_zero_warn(\n"
     ]
    },
    {
     "name": "stdout",
     "output_type": "stream",
     "text": [
      "                                                                           "
     ]
    },
    {
     "name": "stderr",
     "output_type": "stream",
     "text": [
      "c:\\Users\\sorok\\AppData\\Local\\Programs\\Python\\Python39\\lib\\site-packages\\pytorch_lightning\\trainer\\connectors\\data_connector.py:224: PossibleUserWarning: The dataloader, train_dataloader, does not have many workers which may be a bottleneck. Consider increasing the value of the `num_workers` argument` (try 16 which is the number of cpus on this machine) in the `DataLoader` init to improve performance.\n",
      "  rank_zero_warn(\n",
      "c:\\Users\\sorok\\AppData\\Local\\Programs\\Python\\Python39\\lib\\site-packages\\pytorch_lightning\\trainer\\trainer.py:1558: PossibleUserWarning: The number of training batches (10) is smaller than the logging interval Trainer(log_every_n_steps=50). Set a lower value for log_every_n_steps if you want to see logs for the training epoch.\n",
      "  rank_zero_warn(\n"
     ]
    },
    {
     "name": "stdout",
     "output_type": "stream",
     "text": [
      "Epoch 9: 100%|██████████| 11/11 [00:06<00:00,  1.79it/s, loss=4.34, v_num=6]"
     ]
    },
    {
     "name": "stderr",
     "output_type": "stream",
     "text": [
      "`Trainer.fit` stopped: `max_epochs=10` reached.\n"
     ]
    },
    {
     "name": "stdout",
     "output_type": "stream",
     "text": [
      "Epoch 9: 100%|██████████| 11/11 [00:06<00:00,  1.67it/s, loss=4.34, v_num=6]\n"
     ]
    }
   ],
   "source": [
    "trainer = pl.Trainer(max_epochs=10, limit_train_batches=10, limit_val_batches=1, accelerator='gpu')\n",
    "trainer.fit(visual_predictor, train_dl, test_dl)"
   ]
  },
  {
   "cell_type": "code",
   "execution_count": 19,
   "metadata": {},
   "outputs": [
    {
     "name": "stderr",
     "output_type": "stream",
     "text": [
      "LOCAL_RANK: 0 - CUDA_VISIBLE_DEVICES: [0]\n",
      "c:\\Users\\sorok\\AppData\\Local\\Programs\\Python\\Python39\\lib\\site-packages\\pytorch_lightning\\trainer\\connectors\\data_connector.py:224: PossibleUserWarning: The dataloader, predict_dataloader 0, does not have many workers which may be a bottleneck. Consider increasing the value of the `num_workers` argument` (try 16 which is the number of cpus on this machine) in the `DataLoader` init to improve performance.\n",
      "  rank_zero_warn(\n"
     ]
    },
    {
     "name": "stdout",
     "output_type": "stream",
     "text": [
      "Predicting DataLoader 0: 100%|██████████| 17/17 [00:04<00:00,  3.90it/s]\n"
     ]
    }
   ],
   "source": [
    "output = trainer.predict(visual_predictor, dataloaders=predict_dl)"
   ]
  },
  {
   "cell_type": "code",
   "execution_count": 20,
   "metadata": {},
   "outputs": [],
   "source": [
    "output_formated = []\n",
    "y_target = []\n",
    "for i, (_, y_tar) in enumerate(test_dl):\n",
    "  for j in range(len(y_tar)):\n",
    "    y_target.append(y_tar[j].numpy())\n",
    "    output_formated.append(output[i][j].numpy())"
   ]
  },
  {
   "cell_type": "code",
   "execution_count": 21,
   "metadata": {},
   "outputs": [
    {
     "data": {
      "text/plain": [
       "((1027, 24), (1027, 24))"
      ]
     },
     "execution_count": 21,
     "metadata": {},
     "output_type": "execute_result"
    }
   ],
   "source": [
    "output_formated = np.array(output_formated)\n",
    "y_target = np.array(y_target)\n",
    "\n",
    "y_target.shape, output_formated.shape"
   ]
  },
  {
   "cell_type": "code",
   "execution_count": 22,
   "metadata": {},
   "outputs": [],
   "source": [
    "def compute_metrics(y_true, y_pred):\n",
    "  f1 = metrics.f1_score(y_true, y_pred, average=None)\n",
    "  recall = metrics.recall_score(y_true, y_pred, average=None)\n",
    "  precision = metrics.precision_score(y_true, y_pred, average=None)\n",
    "\n",
    "  return {\"f1\": f1, \"recall\": recall, \"precision\": precision, \"f1_macro\": f1.mean(), \"recall_macro\": recall.mean(), \"precision_macro\": precision.mean()}\n"
   ]
  },
  {
   "cell_type": "code",
   "execution_count": 23,
   "metadata": {},
   "outputs": [
    {
     "data": {
      "text/plain": [
       "{'f1': array([0.07853403, 0.11091854, 0.08997429, 0.08      , 0.084     ,\n",
       "        0.08203125, 0.03508772, 0.0950495 , 0.07771429, 0.11074919,\n",
       "        0.03125   , 0.11311054, 0.1043956 , 0.09182209, 0.09107468,\n",
       "        0.08571429, 0.05434783, 0.09556314, 0.02586207, 0.06451613,\n",
       "        0.07281553, 0.08333333, 0.02222222, 0.07361963]),\n",
       " 'recall': array([0.34883721, 0.54237288, 0.71428571, 0.40909091, 0.42      ,\n",
       "        0.41176471, 0.05882353, 0.53333333, 0.80952381, 0.38636364,\n",
       "        0.14893617, 0.44897959, 0.38      , 0.61538462, 0.43859649,\n",
       "        0.17307692, 0.25641026, 0.29166667, 0.08333333, 0.3030303 ,\n",
       "        0.42857143, 0.26666667, 0.07142857, 0.25      ]),\n",
       " 'precision': array([0.04424779, 0.06177606, 0.04801097, 0.04433498, 0.04666667,\n",
       "        0.04555315, 0.025     , 0.05217391, 0.04081633, 0.06463878,\n",
       "        0.01745636, 0.06470588, 0.06050955, 0.0496124 , 0.05081301,\n",
       "        0.05696203, 0.03039514, 0.05714286, 0.01530612, 0.03610108,\n",
       "        0.0397878 , 0.04938272, 0.01315789, 0.04316547]),\n",
       " 'f1_macro': 0.0772377460682448,\n",
       " 'recall_macro': 0.3662698644331714,\n",
       " 'precision_macro': 0.04407153924606935}"
      ]
     },
     "execution_count": 23,
     "metadata": {},
     "output_type": "execute_result"
    }
   ],
   "source": [
    "y_pred = output_formated.copy()\n",
    "t = 0.05\n",
    "y_pred[y_pred > t] = 1\n",
    "y_pred[y_pred <= t] = 0\n",
    "metrics_dict = compute_metrics(y_target, y_pred)\n",
    "metrics_dict"
   ]
  },
  {
   "cell_type": "code",
   "execution_count": 29,
   "metadata": {},
   "outputs": [],
   "source": [
    "class FilmTextDataset(Dataset):\n",
    "  def __init__(self, \n",
    "               meta_df: pd.DataFrame, \n",
    "               target_df: pd.DataFrame,\n",
    "               is_inference:bool=False):\n",
    "    self.df = meta_df\n",
    "    self.y = target_df\n",
    "    self.tokenizer = BertTokenizer.from_pretrained(\"textattack/bert-base-uncased-yelp-polarity\")\n",
    "    self.max_seq_len = 120\n",
    "    self.is_inference=is_inference\n",
    "  \n",
    "  def __getitem__(self, idx: int):\n",
    "    text  = str(self.df.iloc[idx]['clean_title']) + ' # ' + str(self.df.iloc[idx]['clean_description'])\n",
    "    tokenized = self.tokenizer(text, max_length=self.max_seq_len, padding='max_length')\n",
    "    target = torch.tensor(self.y.iloc[idx].values)\n",
    "    if self.is_inference:\n",
    "      return {k: torch.tensor(v) for k, v in tokenized.items()}\n",
    "\n",
    "    return {k: torch.tensor(v) for k, v in tokenized.items()}, target\n",
    "  \n",
    "  def __len__(self):\n",
    "    return len(self.df)"
   ]
  },
  {
   "cell_type": "code",
   "execution_count": 30,
   "metadata": {},
   "outputs": [],
   "source": [
    "class TextModel(nn.Module):\n",
    "  def __init__(self, n_classes=24):\n",
    "    super(TextModel, self).__init__()\n",
    "    self.bert = BertForSequenceClassification.from_pretrained(\"textattack/bert-base-uncased-yelp-polarity\", \n",
    "                                                              num_labels=n_classes,\n",
    "                                                              ignore_mismatched_sizes=True)\n",
    "    self.sigmoid = nn.Sigmoid()\n",
    "  \n",
    "  def forward(self, x):\n",
    "    return self.sigmoid(self.bert(**x).logits)"
   ]
  },
  {
   "cell_type": "code",
   "execution_count": 31,
   "metadata": {},
   "outputs": [],
   "source": [
    "train_dl = DataLoader(FilmTextDataset(X_train, y_train), batch_size=8, shuffle=True)\n",
    "test_dl = DataLoader(FilmTextDataset(X_test, y_test), batch_size=8, shuffle=False)\n",
    "predict_dl = DataLoader(FilmTextDataset(X_test, y_test, is_inference=True), batch_size=16, shuffle=False)"
   ]
  },
  {
   "cell_type": "code",
   "execution_count": 32,
   "metadata": {},
   "outputs": [
    {
     "name": "stderr",
     "output_type": "stream",
     "text": [
      "Some weights of BertForSequenceClassification were not initialized from the model checkpoint at textattack/bert-base-uncased-yelp-polarity and are newly initialized because the shapes did not match:\n",
      "- classifier.weight: found shape torch.Size([2, 768]) in the checkpoint and torch.Size([24, 768]) in the model instantiated\n",
      "- classifier.bias: found shape torch.Size([2]) in the checkpoint and torch.Size([24]) in the model instantiated\n",
      "You should probably TRAIN this model on a down-stream task to be able to use it for predictions and inference.\n"
     ]
    }
   ],
   "source": [
    "m = TextModel()\n",
    "text_predictor = FilmPreditor(m, torch.nn.BCELoss(), lambda x: torch.optim.Adam(x, lr=5e-5))"
   ]
  },
  {
   "cell_type": "code",
   "execution_count": 33,
   "metadata": {},
   "outputs": [
    {
     "name": "stderr",
     "output_type": "stream",
     "text": [
      "GPU available: True (cuda), used: True\n",
      "TPU available: False, using: 0 TPU cores\n",
      "IPU available: False, using: 0 IPUs\n",
      "HPU available: False, using: 0 HPUs\n",
      "LOCAL_RANK: 0 - CUDA_VISIBLE_DEVICES: [0]\n",
      "\n",
      "  | Name      | Type      | Params\n",
      "----------------------------------------\n",
      "0 | predictor | TextModel | 109 M \n",
      "1 | criterion | BCELoss   | 0     \n",
      "----------------------------------------\n",
      "109 M     Trainable params\n",
      "0         Non-trainable params\n",
      "109 M     Total params\n",
      "438.003   Total estimated model params size (MB)\n"
     ]
    },
    {
     "name": "stdout",
     "output_type": "stream",
     "text": [
      "                                                                           "
     ]
    },
    {
     "name": "stderr",
     "output_type": "stream",
     "text": [
      "c:\\Users\\sorok\\AppData\\Local\\Programs\\Python\\Python39\\lib\\site-packages\\pytorch_lightning\\trainer\\connectors\\data_connector.py:224: PossibleUserWarning: The dataloader, train_dataloader, does not have many workers which may be a bottleneck. Consider increasing the value of the `num_workers` argument` (try 16 which is the number of cpus on this machine) in the `DataLoader` init to improve performance.\n",
      "  rank_zero_warn(\n"
     ]
    },
    {
     "name": "stdout",
     "output_type": "stream",
     "text": [
      "Epoch 1: 100%|██████████| 772/772 [02:31<00:00,  5.11it/s, loss=0.172, v_num=7]"
     ]
    },
    {
     "name": "stderr",
     "output_type": "stream",
     "text": [
      "`Trainer.fit` stopped: `max_epochs=2` reached.\n"
     ]
    },
    {
     "name": "stdout",
     "output_type": "stream",
     "text": [
      "Epoch 1: 100%|██████████| 772/772 [02:31<00:00,  5.11it/s, loss=0.172, v_num=7]\n"
     ]
    }
   ],
   "source": [
    "trainer = pl.Trainer(max_epochs=2, val_check_interval=0.5, accelerator='gpu')\n",
    "trainer.fit(text_predictor, train_dl, test_dl)"
   ]
  },
  {
   "cell_type": "code",
   "execution_count": 34,
   "metadata": {},
   "outputs": [
    {
     "name": "stderr",
     "output_type": "stream",
     "text": [
      "LOCAL_RANK: 0 - CUDA_VISIBLE_DEVICES: [0]\n",
      "c:\\Users\\sorok\\AppData\\Local\\Programs\\Python\\Python39\\lib\\site-packages\\pytorch_lightning\\trainer\\connectors\\data_connector.py:224: PossibleUserWarning: The dataloader, predict_dataloader 0, does not have many workers which may be a bottleneck. Consider increasing the value of the `num_workers` argument` (try 16 which is the number of cpus on this machine) in the `DataLoader` init to improve performance.\n",
      "  rank_zero_warn(\n"
     ]
    },
    {
     "name": "stdout",
     "output_type": "stream",
     "text": [
      "Predicting DataLoader 0: 100%|██████████| 65/65 [00:14<00:00,  4.49it/s]\n"
     ]
    }
   ],
   "source": [
    "output = trainer.predict(text_predictor, dataloaders=predict_dl)"
   ]
  },
  {
   "cell_type": "code",
   "execution_count": 35,
   "metadata": {},
   "outputs": [
    {
     "ename": "IndexError",
     "evalue": "index 3 is out of bounds for dimension 0 with size 3",
     "output_type": "error",
     "traceback": [
      "\u001b[1;31m---------------------------------------------------------------------------\u001b[0m",
      "\u001b[1;31mIndexError\u001b[0m                                Traceback (most recent call last)",
      "\u001b[1;32mc:\\Users\\sorok\\Desktop\\IndustrialML\\Lab_2\\lab2.ipynb Cell 32\u001b[0m in \u001b[0;36m<module>\u001b[1;34m\u001b[0m\n\u001b[0;32m      <a href='vscode-notebook-cell:/c%3A/Users/sorok/Desktop/IndustrialML/Lab_2/lab2.ipynb#X33sZmlsZQ%3D%3D?line=3'>4</a>\u001b[0m \u001b[39mfor\u001b[39;00m j \u001b[39min\u001b[39;00m \u001b[39mrange\u001b[39m(\u001b[39mlen\u001b[39m(y_tar)):\n\u001b[0;32m      <a href='vscode-notebook-cell:/c%3A/Users/sorok/Desktop/IndustrialML/Lab_2/lab2.ipynb#X33sZmlsZQ%3D%3D?line=4'>5</a>\u001b[0m   y_target\u001b[39m.\u001b[39mappend(y_tar[j]\u001b[39m.\u001b[39mnumpy())\n\u001b[1;32m----> <a href='vscode-notebook-cell:/c%3A/Users/sorok/Desktop/IndustrialML/Lab_2/lab2.ipynb#X33sZmlsZQ%3D%3D?line=5'>6</a>\u001b[0m   output_formated\u001b[39m.\u001b[39mappend(output[i][j]\u001b[39m.\u001b[39mnumpy())\n",
      "\u001b[1;31mIndexError\u001b[0m: index 3 is out of bounds for dimension 0 with size 3"
     ]
    }
   ],
   "source": [
    "output_formated = []\n",
    "y_target = []\n",
    "for i, (_, y_tar) in enumerate(test_dl):\n",
    "  for j in range(len(y_tar)):\n",
    "    y_target.append(y_tar[j].numpy())\n",
    "    output_formated.append(output[i][j].numpy())"
   ]
  }
 ],
 "metadata": {
  "kernelspec": {
   "display_name": "Python 3.9.0 64-bit",
   "language": "python",
   "name": "python3"
  },
  "language_info": {
   "codemirror_mode": {
    "name": "ipython",
    "version": 3
   },
   "file_extension": ".py",
   "mimetype": "text/x-python",
   "name": "python",
   "nbconvert_exporter": "python",
   "pygments_lexer": "ipython3",
   "version": "3.9.0"
  },
  "orig_nbformat": 4,
  "vscode": {
   "interpreter": {
    "hash": "71ff87c67ba816b6af4ee8e83b06c07dc669ccb76fd16d8077dc452b70bfd898"
   }
  }
 },
 "nbformat": 4,
 "nbformat_minor": 2
}
