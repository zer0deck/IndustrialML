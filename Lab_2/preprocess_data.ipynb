{
 "cells": [
  {
   "cell_type": "markdown",
   "id": "07a9f4d5",
   "metadata": {},
   "source": [
    "### Lab 2."
   ]
  },
  {
   "cell_type": "code",
   "execution_count": 68,
   "metadata": {},
   "outputs": [
    {
     "name": "stderr",
     "output_type": "stream",
     "text": [
      "[nltk_data] Downloading package stopwords to\n",
      "[nltk_data]     C:\\Users\\sorok\\AppData\\Roaming\\nltk_data...\n",
      "[nltk_data]   Package stopwords is already up-to-date!\n"
     ]
    }
   ],
   "source": [
    "import torch\n",
    "import torch.nn as nn\n",
    "import numpy as np\n",
    "import pandas as pd\n",
    "import torch.functional as F\n",
    "import sklearn\n",
    "import matplotlib.pyplot as plt\n",
    "import seaborn as sns\n",
    "from transformers import BertTokenizer, BertForSequenceClassification\n",
    "from torch.utils.data import Dataset, DataLoader\n",
    "from sklearn.model_selection import train_test_split\n",
    "import nltk\n",
    "import re\n",
    "nltk.download('stopwords')\n",
    "from nltk.corpus import stopwords\n",
    "from nltk.stem.porter import PorterStemmer\n",
    "import pytorch_lightning as pl\n",
    "import typing\n",
    "import torchvision\n",
    "from torchvision import transforms\n",
    "from sklearn import metrics\n",
    "from sklearn.feature_extraction.text import TfidfVectorizer"
   ]
  },
  {
   "cell_type": "code",
   "execution_count": 69,
   "metadata": {},
   "outputs": [
    {
     "data": {
      "text/plain": [
       "title          False\n",
       "genre          False\n",
       "description     True\n",
       "img_link       False\n",
       "dtype: bool"
      ]
     },
     "execution_count": 69,
     "metadata": {},
     "output_type": "execute_result"
    }
   ],
   "source": [
    "df = pd.read_csv(\"data.csv\", sep=';')\n",
    "df.isna().any()"
   ]
  },
  {
   "cell_type": "code",
   "execution_count": 70,
   "metadata": {},
   "outputs": [],
   "source": [
    "df = df.dropna()"
   ]
  },
  {
   "cell_type": "code",
   "execution_count": 71,
   "metadata": {},
   "outputs": [
    {
     "data": {
      "text/plain": [
       "title          False\n",
       "genre          False\n",
       "description    False\n",
       "img_link       False\n",
       "dtype: bool"
      ]
     },
     "execution_count": 71,
     "metadata": {},
     "output_type": "execute_result"
    }
   ],
   "source": [
    "df.isna().any()"
   ]
  },
  {
   "cell_type": "code",
   "execution_count": 72,
   "metadata": {},
   "outputs": [
    {
     "data": {
      "image/png": "[encoded data removed]",
      "text/plain": [
       "<Figure size 1080x504 with 1 Axes>"
      ]
     },
     "metadata": {
      "needs_background": "light"
     },
     "output_type": "display_data"
    }
   ],
   "source": [
    "plt.figure(figsize=(15,7))\n",
    "sns.countplot(x='genre', data=df, edgecolor=(0,0,0))\n",
    "plt.xticks(rotation=45)\n",
    "plt.xlabel('Movie Genres')\n",
    "plt.ylabel('Count')\n",
    "plt.title('Genre count')\n",
    "plt.show()"
   ]
  },
  {
   "cell_type": "code",
   "execution_count": 73,
   "metadata": {},
   "outputs": [
    {
     "data": {
      "text/html": [
       "<div>\n",
       "<style scoped>\n",
       "    .dataframe tbody tr th:only-of-type {\n",
       "        vertical-align: middle;\n",
       "    }\n",
       "\n",
       "    .dataframe tbody tr th {\n",
       "        vertical-align: top;\n",
       "    }\n",
       "\n",
       "    .dataframe thead th {\n",
       "        text-align: right;\n",
       "    }\n",
       "</style>\n",
       "<table border=\"1\" class=\"dataframe\">\n",
       "  <thead>\n",
       "    <tr style=\"text-align: right;\">\n",
       "      <th></th>\n",
       "      <th>title</th>\n",
       "      <th>genre</th>\n",
       "      <th>description</th>\n",
       "      <th>img_link</th>\n",
       "    </tr>\n",
       "  </thead>\n",
       "  <tbody>\n",
       "    <tr>\n",
       "      <th>0</th>\n",
       "      <td>Black Panther: Wakanda Forever</td>\n",
       "      <td>Action</td>\n",
       "      <td>The people of Wakanda fight to protect their h...</td>\n",
       "      <td>Action_01.jpg</td>\n",
       "    </tr>\n",
       "    <tr>\n",
       "      <th>1</th>\n",
       "      <td>Andor</td>\n",
       "      <td>Action</td>\n",
       "      <td>Prequel series to Star Wars' 'Rogue One'. In a...</td>\n",
       "      <td>Action_02.jpg</td>\n",
       "    </tr>\n",
       "    <tr>\n",
       "      <th>2</th>\n",
       "      <td>Black Adam</td>\n",
       "      <td>Action</td>\n",
       "      <td>Nearly 5,000 years after he was bestowed with ...</td>\n",
       "      <td>Action_03.jpg</td>\n",
       "    </tr>\n",
       "    <tr>\n",
       "      <th>3</th>\n",
       "      <td>House of the Dragon</td>\n",
       "      <td>Action</td>\n",
       "      <td>An internal succession war within House Targar...</td>\n",
       "      <td>Action_04.jpg</td>\n",
       "    </tr>\n",
       "    <tr>\n",
       "      <th>4</th>\n",
       "      <td>Warrior Nun</td>\n",
       "      <td>Action</td>\n",
       "      <td>After waking up in a morgue, an orphaned teen ...</td>\n",
       "      <td>Action_05.jpg</td>\n",
       "    </tr>\n",
       "  </tbody>\n",
       "</table>\n",
       "</div>"
      ],
      "text/plain": [
       "                            title   genre  \\\n",
       "0  Black Panther: Wakanda Forever  Action   \n",
       "1                           Andor  Action   \n",
       "2                      Black Adam  Action   \n",
       "3             House of the Dragon  Action   \n",
       "4                     Warrior Nun  Action   \n",
       "\n",
       "                                         description       img_link  \n",
       "0  The people of Wakanda fight to protect their h...  Action_01.jpg  \n",
       "1  Prequel series to Star Wars' 'Rogue One'. In a...  Action_02.jpg  \n",
       "2  Nearly 5,000 years after he was bestowed with ...  Action_03.jpg  \n",
       "3  An internal succession war within House Targar...  Action_04.jpg  \n",
       "4  After waking up in a morgue, an orphaned teen ...  Action_05.jpg  "
      ]
     },
     "execution_count": 73,
     "metadata": {},
     "output_type": "execute_result"
    }
   ],
   "source": [
    "df.head()"
   ]
  },
  {
   "cell_type": "code",
   "execution_count": 74,
   "metadata": {},
   "outputs": [],
   "source": [
    "#genre_mapper = {'Action': 0, 'Adventure': 1, 'Animation': 2, 'Biography':3, 'Comedy':4, 'Crime':5, 'Documentary':6, 'Drama':7, 'Family': 8,\n",
    "#                'Fantasy': 9, 'Film-Noir': 10, 'History': 11, 'Horror':12, 'Music':13, 'Musical':14, 'Mystery':15, 'Romance':16, 'Sci-Fi': 17,\n",
    "#                'Short': 18, 'Sport': 19, 'Superhero': 20, 'Thriller':21, 'War':22, 'Western':23}\n",
    "#df['genre'] = df['genre'].map(genre_mapper)\n",
    "#df.head(10)"
   ]
  },
  {
   "cell_type": "markdown",
   "metadata": {},
   "source": [
    "### Text preprocessing"
   ]
  },
  {
   "cell_type": "code",
   "execution_count": 75,
   "metadata": {},
   "outputs": [],
   "source": [
    "# Text preprocessing\n",
    "\n",
    "def preprocess_text(text, stemm=False, lemm=True, stopwords=None):\n",
    "  # Remove punctuations, lowercase, strip\n",
    "  text = re.sub(r'[^\\w\\s]', '', str(text).lower().strip())\n",
    "          \n",
    "  # Tokenize\n",
    "  texts = text.split()    \n",
    "  # Remove Stopwords\n",
    "  if stopwords is not None:\n",
    "      texts = [word for word in texts if word not in stopwords]\n",
    "              \n",
    "  # Stemming\n",
    "  if stemm == True:\n",
    "      ps = nltk.stem.porter.PorterStemmer()\n",
    "      texts = [ps.stem(word) for word in texts]\n",
    "              \n",
    "  # Lemmatisation\n",
    "  if lemm == True:\n",
    "      lem = nltk.stem.wordnet.WordNetLemmatizer()\n",
    "      texts = [lem.lemmatize(word) for word in texts]\n",
    "          \n",
    "  # Collect lists\n",
    "  text = \" \".join(texts)\n",
    "  return text"
   ]
  },
  {
   "cell_type": "code",
   "execution_count": 76,
   "metadata": {},
   "outputs": [],
   "source": [
    "# Loading stopwords dict\n",
    "stopwords = nltk.corpus.stopwords.words(\"english\")"
   ]
  },
  {
   "cell_type": "code",
   "execution_count": 77,
   "metadata": {},
   "outputs": [
    {
     "data": {
      "text/html": [
       "<div>\n",
       "<style scoped>\n",
       "    .dataframe tbody tr th:only-of-type {\n",
       "        vertical-align: middle;\n",
       "    }\n",
       "\n",
       "    .dataframe tbody tr th {\n",
       "        vertical-align: top;\n",
       "    }\n",
       "\n",
       "    .dataframe thead th {\n",
       "        text-align: right;\n",
       "    }\n",
       "</style>\n",
       "<table border=\"1\" class=\"dataframe\">\n",
       "  <thead>\n",
       "    <tr style=\"text-align: right;\">\n",
       "      <th></th>\n",
       "      <th>title</th>\n",
       "      <th>genre</th>\n",
       "      <th>description</th>\n",
       "      <th>img_link</th>\n",
       "      <th>clean_title</th>\n",
       "      <th>clean_description</th>\n",
       "    </tr>\n",
       "  </thead>\n",
       "  <tbody>\n",
       "    <tr>\n",
       "      <th>0</th>\n",
       "      <td>Black Panther: Wakanda Forever</td>\n",
       "      <td>Action</td>\n",
       "      <td>The people of Wakanda fight to protect their h...</td>\n",
       "      <td>Action_01.jpg</td>\n",
       "      <td>black panther wakanda forever</td>\n",
       "      <td>people wakanda fight protect home intervening ...</td>\n",
       "    </tr>\n",
       "    <tr>\n",
       "      <th>1</th>\n",
       "      <td>Andor</td>\n",
       "      <td>Action</td>\n",
       "      <td>Prequel series to Star Wars' 'Rogue One'. In a...</td>\n",
       "      <td>Action_02.jpg</td>\n",
       "      <td>andor</td>\n",
       "      <td>prequel series star war rogue one era filled d...</td>\n",
       "    </tr>\n",
       "    <tr>\n",
       "      <th>2</th>\n",
       "      <td>Black Adam</td>\n",
       "      <td>Action</td>\n",
       "      <td>Nearly 5,000 years after he was bestowed with ...</td>\n",
       "      <td>Action_03.jpg</td>\n",
       "      <td>black adam</td>\n",
       "      <td>nearly 5000 year bestowed almighty power egypt...</td>\n",
       "    </tr>\n",
       "    <tr>\n",
       "      <th>3</th>\n",
       "      <td>House of the Dragon</td>\n",
       "      <td>Action</td>\n",
       "      <td>An internal succession war within House Targar...</td>\n",
       "      <td>Action_04.jpg</td>\n",
       "      <td>house dragon</td>\n",
       "      <td>internal succession war within house targaryen...</td>\n",
       "    </tr>\n",
       "    <tr>\n",
       "      <th>4</th>\n",
       "      <td>Warrior Nun</td>\n",
       "      <td>Action</td>\n",
       "      <td>After waking up in a morgue, an orphaned teen ...</td>\n",
       "      <td>Action_05.jpg</td>\n",
       "      <td>warrior nun</td>\n",
       "      <td>waking morgue orphaned teen discovers posse su...</td>\n",
       "    </tr>\n",
       "  </tbody>\n",
       "</table>\n",
       "</div>"
      ],
      "text/plain": [
       "                            title   genre  \\\n",
       "0  Black Panther: Wakanda Forever  Action   \n",
       "1                           Andor  Action   \n",
       "2                      Black Adam  Action   \n",
       "3             House of the Dragon  Action   \n",
       "4                     Warrior Nun  Action   \n",
       "\n",
       "                                         description       img_link  \\\n",
       "0  The people of Wakanda fight to protect their h...  Action_01.jpg   \n",
       "1  Prequel series to Star Wars' 'Rogue One'. In a...  Action_02.jpg   \n",
       "2  Nearly 5,000 years after he was bestowed with ...  Action_03.jpg   \n",
       "3  An internal succession war within House Targar...  Action_04.jpg   \n",
       "4  After waking up in a morgue, an orphaned teen ...  Action_05.jpg   \n",
       "\n",
       "                     clean_title  \\\n",
       "0  black panther wakanda forever   \n",
       "1                          andor   \n",
       "2                     black adam   \n",
       "3                   house dragon   \n",
       "4                    warrior nun   \n",
       "\n",
       "                                   clean_description  \n",
       "0  people wakanda fight protect home intervening ...  \n",
       "1  prequel series star war rogue one era filled d...  \n",
       "2  nearly 5000 year bestowed almighty power egypt...  \n",
       "3  internal succession war within house targaryen...  \n",
       "4  waking morgue orphaned teen discovers posse su...  "
      ]
     },
     "execution_count": 77,
     "metadata": {},
     "output_type": "execute_result"
    }
   ],
   "source": [
    "# Doing preprocessing on texts\n",
    "df['clean_title'] = df[\"title\"].apply(lambda x: \n",
    "          preprocess_text(x, stemm=False, lemm=True, stopwords=stopwords))\n",
    "df['clean_description'] = df[\"description\"].apply(lambda x: \n",
    "          preprocess_text(x, stemm=False, lemm=True, stopwords=stopwords))\n",
    "df.head()"
   ]
  },
  {
   "cell_type": "code",
   "execution_count": 78,
   "metadata": {},
   "outputs": [],
   "source": [
    "#one_hot = pd.get_dummies(df['genre'])\n",
    "#df = df.drop(['genre'], axis = 1)\n",
    "#df = df.join(one_hot)\n",
    "#df"
   ]
  },
  {
   "cell_type": "code",
   "execution_count": 79,
   "metadata": {},
   "outputs": [],
   "source": [
    "#df.to_csv('data_cleaned.csv', sep=';', index=None)"
   ]
  },
  {
   "cell_type": "code",
   "execution_count": 80,
   "metadata": {},
   "outputs": [],
   "source": [
    "#genre_mapper = {'Action': 0, 'Adventure': 1, 'Animation': 2, 'Biography':3, 'Comedy':4, 'Crime':5, 'Documentary':6, 'Drama':7, 'Family': 8,\n",
    "#                'Fantasy': 9, 'Film-Noir': 10, 'History': 11, 'Horror':12, 'Music':13, 'Musical':14, 'Mystery':15, 'Romance':16, 'Sci-Fi': 17,\n",
    "#                'Short': 18, 'Sport': 19, 'Superhero': 20, 'Thriller':21, 'War':22, 'Western':23}\n",
    "#df['genre'] = df['genre'].map(genre_mapper)\n",
    "#df.head(10)"
   ]
  },
  {
   "cell_type": "code",
   "execution_count": 81,
   "metadata": {},
   "outputs": [
    {
     "data": {
      "text/html": [
       "<div>\n",
       "<style scoped>\n",
       "    .dataframe tbody tr th:only-of-type {\n",
       "        vertical-align: middle;\n",
       "    }\n",
       "\n",
       "    .dataframe tbody tr th {\n",
       "        vertical-align: top;\n",
       "    }\n",
       "\n",
       "    .dataframe thead th {\n",
       "        text-align: right;\n",
       "    }\n",
       "</style>\n",
       "<table border=\"1\" class=\"dataframe\">\n",
       "  <thead>\n",
       "    <tr style=\"text-align: right;\">\n",
       "      <th></th>\n",
       "      <th>text</th>\n",
       "      <th>genre</th>\n",
       "      <th>img_link</th>\n",
       "    </tr>\n",
       "  </thead>\n",
       "  <tbody>\n",
       "    <tr>\n",
       "      <th>0</th>\n",
       "      <td>black panther wakanda forever people wakanda f...</td>\n",
       "      <td>Action</td>\n",
       "      <td>Action_01.jpg</td>\n",
       "    </tr>\n",
       "    <tr>\n",
       "      <th>1</th>\n",
       "      <td>andor prequel series star war rogue one era fi...</td>\n",
       "      <td>Action</td>\n",
       "      <td>Action_02.jpg</td>\n",
       "    </tr>\n",
       "    <tr>\n",
       "      <th>2</th>\n",
       "      <td>black adam nearly 5000 year bestowed almighty ...</td>\n",
       "      <td>Action</td>\n",
       "      <td>Action_03.jpg</td>\n",
       "    </tr>\n",
       "    <tr>\n",
       "      <th>3</th>\n",
       "      <td>house dragon internal succession war within ho...</td>\n",
       "      <td>Action</td>\n",
       "      <td>Action_04.jpg</td>\n",
       "    </tr>\n",
       "    <tr>\n",
       "      <th>4</th>\n",
       "      <td>warrior nun waking morgue orphaned teen discov...</td>\n",
       "      <td>Action</td>\n",
       "      <td>Action_05.jpg</td>\n",
       "    </tr>\n",
       "  </tbody>\n",
       "</table>\n",
       "</div>"
      ],
      "text/plain": [
       "                                                text   genre       img_link\n",
       "0  black panther wakanda forever people wakanda f...  Action  Action_01.jpg\n",
       "1  andor prequel series star war rogue one era fi...  Action  Action_02.jpg\n",
       "2  black adam nearly 5000 year bestowed almighty ...  Action  Action_03.jpg\n",
       "3  house dragon internal succession war within ho...  Action  Action_04.jpg\n",
       "4  warrior nun waking morgue orphaned teen discov...  Action  Action_05.jpg"
      ]
     },
     "execution_count": 81,
     "metadata": {},
     "output_type": "execute_result"
    }
   ],
   "source": [
    "df[\"text\"] = df[\"clean_title\"] + \" \" + df[\"clean_description\"]\n",
    "df = df[['text', 'genre', 'img_link']]\n",
    "df.head()"
   ]
  },
  {
   "cell_type": "code",
   "execution_count": 99,
   "metadata": {},
   "outputs": [
    {
     "data": {
      "image/png": "[encoded data removed]",
      "text/plain": [
       "<Figure size 864x1080 with 1 Axes>"
      ]
     },
     "metadata": {
      "needs_background": "light"
     },
     "output_type": "display_data"
    }
   ],
   "source": [
    "def freq_words(x, terms = 30): \n",
    "  all_words = ' '.join([text for text in x]) \n",
    "  all_words = all_words.split() \n",
    "  fdist = nltk.FreqDist(all_words) \n",
    "  words_df = pd.DataFrame({'word':list(fdist.keys()), 'count':list(fdist.values())}) \n",
    "  \n",
    "  # selecting top 20 most frequent words \n",
    "  d = words_df.nlargest(columns=\"count\", n = terms) \n",
    "  \n",
    "  # visualize words and frequencies\n",
    "  plt.figure(figsize=(12,15)) \n",
    "  ax = sns.barplot(data=d, x= \"count\", y = \"word\") \n",
    "  ax.set(ylabel = 'Word') \n",
    "  plt.show()\n",
    "  \n",
    "# print 100 most frequent words \n",
    "freq_words(df['text'], 50)"
   ]
  },
  {
   "cell_type": "code",
   "execution_count": 83,
   "metadata": {},
   "outputs": [],
   "source": [
    "from sklearn.preprocessing import MultiLabelBinarizer\n",
    "\n",
    "multilabel_binarizer = MultiLabelBinarizer()\n",
    "multilabel_binarizer.fit(df['genre'])\n",
    "\n",
    "# transform target variable\n",
    "y = multilabel_binarizer.transform(df['genre'])"
   ]
  },
  {
   "cell_type": "code",
   "execution_count": 84,
   "metadata": {},
   "outputs": [],
   "source": [
    "tfidf_vectorizer = TfidfVectorizer(max_df=0.8, max_features=10000)"
   ]
  },
  {
   "cell_type": "code",
   "execution_count": 85,
   "metadata": {},
   "outputs": [],
   "source": [
    "xtrain, xval, ytrain, yval = train_test_split(df['text'], y, test_size=0.2, random_state=9)"
   ]
  },
  {
   "cell_type": "code",
   "execution_count": 86,
   "metadata": {},
   "outputs": [],
   "source": [
    "# create TF-IDF features\n",
    "xtrain_tfidf = tfidf_vectorizer.fit_transform(xtrain)\n",
    "xval_tfidf = tfidf_vectorizer.transform(xval)"
   ]
  },
  {
   "cell_type": "code",
   "execution_count": 87,
   "metadata": {},
   "outputs": [],
   "source": [
    "from sklearn.linear_model import LogisticRegression\n",
    "\n",
    "# Binary Relevance\n",
    "from sklearn.multiclass import OneVsRestClassifier\n",
    "\n",
    "# Performance metric\n",
    "from sklearn.metrics import f1_score"
   ]
  },
  {
   "cell_type": "code",
   "execution_count": 88,
   "metadata": {},
   "outputs": [],
   "source": [
    "lr = LogisticRegression()\n",
    "clf = OneVsRestClassifier(lr)"
   ]
  },
  {
   "cell_type": "code",
   "execution_count": 89,
   "metadata": {},
   "outputs": [
    {
     "data": {
      "text/plain": [
       "OneVsRestClassifier(estimator=LogisticRegression())"
      ]
     },
     "execution_count": 89,
     "metadata": {},
     "output_type": "execute_result"
    }
   ],
   "source": [
    "# fit model on train data\n",
    "clf.fit(xtrain_tfidf, ytrain)"
   ]
  },
  {
   "cell_type": "code",
   "execution_count": 90,
   "metadata": {},
   "outputs": [],
   "source": [
    "# make predictions for validation set\n",
    "y_pred = clf.predict(xval_tfidf)"
   ]
  },
  {
   "cell_type": "code",
   "execution_count": 91,
   "metadata": {},
   "outputs": [
    {
     "data": {
      "text/plain": [
       "array([0, 0, 0, 0, 0, 0, 0, 0, 0, 0, 0, 0, 0, 0, 0, 0, 0, 0, 0, 1, 0, 0,\n",
       "       0, 1, 0, 1, 0, 0, 0, 0, 0])"
      ]
     },
     "execution_count": 91,
     "metadata": {},
     "output_type": "execute_result"
    }
   ],
   "source": [
    "y_pred[3]"
   ]
  },
  {
   "cell_type": "code",
   "execution_count": 93,
   "metadata": {},
   "outputs": [
    {
     "data": {
      "text/plain": [
       "0.33767400089806915"
      ]
     },
     "execution_count": 93,
     "metadata": {},
     "output_type": "execute_result"
    }
   ],
   "source": [
    "f1_score(yval, y_pred, average=\"micro\")\n",
    "# this is for threshhold 0.5"
   ]
  },
  {
   "cell_type": "code",
   "execution_count": 94,
   "metadata": {},
   "outputs": [],
   "source": [
    "# predict probabilities\n",
    "y_pred_prob = clf.predict_proba(xval_tfidf)"
   ]
  },
  {
   "cell_type": "code",
   "execution_count": 95,
   "metadata": {},
   "outputs": [],
   "source": [
    "t = 0.3 # threshold value\n",
    "y_pred_new = (y_pred_prob >= t).astype(int)"
   ]
  },
  {
   "cell_type": "code",
   "execution_count": 98,
   "metadata": {},
   "outputs": [
    {
     "data": {
      "text/plain": [
       "0.4975946004164572"
      ]
     },
     "execution_count": 98,
     "metadata": {},
     "output_type": "execute_result"
    }
   ],
   "source": [
    "# evaluate performance\n",
    "f1_score(yval, y_pred_new, average=\"micro\")"
   ]
  }
 ],
 "metadata": {
  "kernelspec": {
   "display_name": "Python 3.9.0 64-bit",
   "language": "python",
   "name": "python3"
  },
  "language_info": {
   "codemirror_mode": {
    "name": "ipython",
    "version": 3
   },
   "file_extension": ".py",
   "mimetype": "text/x-python",
   "name": "python",
   "nbconvert_exporter": "python",
   "pygments_lexer": "ipython3",
   "version": "3.9.0"
  },
  "orig_nbformat": 4,
  "vscode": {
   "interpreter": {
    "hash": "71ff87c67ba816b6af4ee8e83b06c07dc669ccb76fd16d8077dc452b70bfd898"
   }
  }
 },
 "nbformat": 4,
 "nbformat_minor": 2
}
